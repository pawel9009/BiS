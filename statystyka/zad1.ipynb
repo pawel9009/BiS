{
 "cells": [
  {
   "cell_type": "code",
   "execution_count": 2,
   "outputs": [],
   "source": [
    "import pandas as pd"
   ],
   "metadata": {
    "collapsed": false,
    "pycharm": {
     "name": "#%%\n"
    }
   }
  },
  {
   "cell_type": "markdown",
   "source": [
    "Ściągnij plik csv z https://extranet.who.int/tme/generateCSV.asp?ds=mdr_estimates. Zaimportuj wybraną kolumnę numeryczną z pliku do Pythona. Oblicz podstawowe statystyki dla zaimportowanych danyc"
   ],
   "metadata": {
    "collapsed": false
   }
  },
  {
   "cell_type": "code",
   "execution_count": 3,
   "outputs": [],
   "source": [
    "df = pd.read_csv('MDR_RR_TB_burden_estimates_2023-01-11.csv')"
   ],
   "metadata": {
    "collapsed": false,
    "pycharm": {
     "name": "#%%\n"
    }
   }
  },
  {
   "cell_type": "code",
   "execution_count": 4,
   "outputs": [
    {
     "data": {
      "text/plain": "       country iso2 iso3  iso_numeric g_whoregion  year source_rr_new  \\\n0  Afghanistan   AF  AFG            4         EMR  2015         Model   \n1  Afghanistan   AF  AFG            4         EMR  2016         Model   \n2  Afghanistan   AF  AFG            4         EMR  2017         Model   \n3  Afghanistan   AF  AFG            4         EMR  2018         Model   \n4  Afghanistan   AF  AFG            4         EMR  2019         Model   \n\n   e_rr_pct_new  e_rr_pct_new_lo  e_rr_pct_new_hi source_rr_ret  e_rr_pct_ret  \\\n0           5.1             0.45             19.0  Surveillance           8.6   \n1           5.1             0.50             20.0  Surveillance          11.0   \n2           5.2             0.53             19.0  Surveillance          15.0   \n3           5.2             0.54             20.0  Surveillance          19.0   \n4           5.3             0.55             20.0  Surveillance          24.0   \n\n   e_rr_pct_ret_lo  e_rr_pct_ret_hi  e_inc_rr_num  e_inc_rr_num_lo  \\\n0              6.5             11.0          3600                0   \n1              9.4             14.0          3800                0   \n2             13.0             16.0          3900                0   \n3             17.0             20.0          4100                0   \n4             21.0             26.0          4300                0   \n\n   e_inc_rr_num_hi  \n0            10000  \n1            11000  \n2            11000  \n3            12000  \n4            12000  ",
      "text/html": "<div>\n<style scoped>\n    .dataframe tbody tr th:only-of-type {\n        vertical-align: middle;\n    }\n\n    .dataframe tbody tr th {\n        vertical-align: top;\n    }\n\n    .dataframe thead th {\n        text-align: right;\n    }\n</style>\n<table border=\"1\" class=\"dataframe\">\n  <thead>\n    <tr style=\"text-align: right;\">\n      <th></th>\n      <th>country</th>\n      <th>iso2</th>\n      <th>iso3</th>\n      <th>iso_numeric</th>\n      <th>g_whoregion</th>\n      <th>year</th>\n      <th>source_rr_new</th>\n      <th>e_rr_pct_new</th>\n      <th>e_rr_pct_new_lo</th>\n      <th>e_rr_pct_new_hi</th>\n      <th>source_rr_ret</th>\n      <th>e_rr_pct_ret</th>\n      <th>e_rr_pct_ret_lo</th>\n      <th>e_rr_pct_ret_hi</th>\n      <th>e_inc_rr_num</th>\n      <th>e_inc_rr_num_lo</th>\n      <th>e_inc_rr_num_hi</th>\n    </tr>\n  </thead>\n  <tbody>\n    <tr>\n      <th>0</th>\n      <td>Afghanistan</td>\n      <td>AF</td>\n      <td>AFG</td>\n      <td>4</td>\n      <td>EMR</td>\n      <td>2015</td>\n      <td>Model</td>\n      <td>5.1</td>\n      <td>0.45</td>\n      <td>19.0</td>\n      <td>Surveillance</td>\n      <td>8.6</td>\n      <td>6.5</td>\n      <td>11.0</td>\n      <td>3600</td>\n      <td>0</td>\n      <td>10000</td>\n    </tr>\n    <tr>\n      <th>1</th>\n      <td>Afghanistan</td>\n      <td>AF</td>\n      <td>AFG</td>\n      <td>4</td>\n      <td>EMR</td>\n      <td>2016</td>\n      <td>Model</td>\n      <td>5.1</td>\n      <td>0.50</td>\n      <td>20.0</td>\n      <td>Surveillance</td>\n      <td>11.0</td>\n      <td>9.4</td>\n      <td>14.0</td>\n      <td>3800</td>\n      <td>0</td>\n      <td>11000</td>\n    </tr>\n    <tr>\n      <th>2</th>\n      <td>Afghanistan</td>\n      <td>AF</td>\n      <td>AFG</td>\n      <td>4</td>\n      <td>EMR</td>\n      <td>2017</td>\n      <td>Model</td>\n      <td>5.2</td>\n      <td>0.53</td>\n      <td>19.0</td>\n      <td>Surveillance</td>\n      <td>15.0</td>\n      <td>13.0</td>\n      <td>16.0</td>\n      <td>3900</td>\n      <td>0</td>\n      <td>11000</td>\n    </tr>\n    <tr>\n      <th>3</th>\n      <td>Afghanistan</td>\n      <td>AF</td>\n      <td>AFG</td>\n      <td>4</td>\n      <td>EMR</td>\n      <td>2018</td>\n      <td>Model</td>\n      <td>5.2</td>\n      <td>0.54</td>\n      <td>20.0</td>\n      <td>Surveillance</td>\n      <td>19.0</td>\n      <td>17.0</td>\n      <td>20.0</td>\n      <td>4100</td>\n      <td>0</td>\n      <td>12000</td>\n    </tr>\n    <tr>\n      <th>4</th>\n      <td>Afghanistan</td>\n      <td>AF</td>\n      <td>AFG</td>\n      <td>4</td>\n      <td>EMR</td>\n      <td>2019</td>\n      <td>Model</td>\n      <td>5.3</td>\n      <td>0.55</td>\n      <td>20.0</td>\n      <td>Surveillance</td>\n      <td>24.0</td>\n      <td>21.0</td>\n      <td>26.0</td>\n      <td>4300</td>\n      <td>0</td>\n      <td>12000</td>\n    </tr>\n  </tbody>\n</table>\n</div>"
     },
     "execution_count": 4,
     "metadata": {},
     "output_type": "execute_result"
    }
   ],
   "source": [
    "df.head()"
   ],
   "metadata": {
    "collapsed": false,
    "pycharm": {
     "name": "#%%\n"
    }
   }
  },
  {
   "cell_type": "code",
   "execution_count": 5,
   "outputs": [],
   "source": [
    "column = df['e_rr_pct_ret']"
   ],
   "metadata": {
    "collapsed": false,
    "pycharm": {
     "name": "#%%\n"
    }
   }
  },
  {
   "cell_type": "code",
   "execution_count": 6,
   "outputs": [
    {
     "data": {
      "text/plain": "0        8.6\n1       11.0\n2       15.0\n3       19.0\n4       24.0\n        ... \n1486    20.0\n1487    21.0\n1488    23.0\n1489    25.0\n1490    28.0\nName: e_rr_pct_ret, Length: 1491, dtype: float64"
     },
     "execution_count": 6,
     "metadata": {},
     "output_type": "execute_result"
    }
   ],
   "source": [
    "column"
   ],
   "metadata": {
    "collapsed": false,
    "pycharm": {
     "name": "#%%\n"
    }
   }
  },
  {
   "cell_type": "code",
   "execution_count": 7,
   "outputs": [
    {
     "data": {
      "text/plain": "17.071495640509724"
     },
     "execution_count": 7,
     "metadata": {},
     "output_type": "execute_result"
    }
   ],
   "source": [
    "column.mean()"
   ],
   "metadata": {
    "collapsed": false,
    "pycharm": {
     "name": "#%%\n"
    }
   }
  },
  {
   "cell_type": "code",
   "execution_count": 8,
   "outputs": [
    {
     "data": {
      "text/plain": "14.0"
     },
     "execution_count": 8,
     "metadata": {},
     "output_type": "execute_result"
    }
   ],
   "source": [
    "column.median()"
   ],
   "metadata": {
    "collapsed": false,
    "pycharm": {
     "name": "#%%\n"
    }
   }
  },
  {
   "cell_type": "code",
   "execution_count": 9,
   "outputs": [
    {
     "data": {
      "text/plain": "176.0162138018266"
     },
     "execution_count": 9,
     "metadata": {},
     "output_type": "execute_result"
    }
   ],
   "source": [
    "column.var()"
   ],
   "metadata": {
    "collapsed": false,
    "pycharm": {
     "name": "#%%\n"
    }
   }
  },
  {
   "cell_type": "code",
   "execution_count": 10,
   "outputs": [
    {
     "data": {
      "text/plain": "13.26711022799715"
     },
     "execution_count": 10,
     "metadata": {},
     "output_type": "execute_result"
    }
   ],
   "source": [
    "column.std()"
   ],
   "metadata": {
    "collapsed": false,
    "pycharm": {
     "name": "#%%\n"
    }
   }
  },
  {
   "cell_type": "code",
   "execution_count": 11,
   "outputs": [
    {
     "data": {
      "text/plain": "4.209643723958658"
     },
     "execution_count": 11,
     "metadata": {},
     "output_type": "execute_result"
    }
   ],
   "source": [
    "column.kurtosis()"
   ],
   "metadata": {
    "collapsed": false,
    "pycharm": {
     "name": "#%%\n"
    }
   }
  },
  {
   "cell_type": "code",
   "execution_count": 12,
   "outputs": [
    {
     "data": {
      "text/plain": "0    13.0\nName: e_rr_pct_ret, dtype: float64"
     },
     "execution_count": 12,
     "metadata": {},
     "output_type": "execute_result"
    }
   ],
   "source": [
    "column.mode()"
   ],
   "metadata": {
    "collapsed": false,
    "pycharm": {
     "name": "#%%\n"
    }
   }
  },
  {
   "cell_type": "code",
   "execution_count": 13,
   "outputs": [
    {
     "data": {
      "text/plain": "8.4"
     },
     "execution_count": 13,
     "metadata": {},
     "output_type": "execute_result"
    }
   ],
   "source": [
    "column.quantile(q=0.25)"
   ],
   "metadata": {
    "collapsed": false,
    "pycharm": {
     "name": "#%%\n"
    }
   }
  },
  {
   "cell_type": "code",
   "execution_count": 14,
   "outputs": [
    {
     "data": {
      "text/plain": "14.0"
     },
     "execution_count": 14,
     "metadata": {},
     "output_type": "execute_result"
    }
   ],
   "source": [
    "column.quantile(q=0.5)"
   ],
   "metadata": {
    "collapsed": false,
    "pycharm": {
     "name": "#%%\n"
    }
   }
  },
  {
   "cell_type": "markdown",
   "source": [
    "2.\tWgraj plik Wzrost.csv. Użyj dla niego funkcji z modułu statistics. Czym różnią się funkcje dotyczące wariancji i odchylenia standardowego?"
   ],
   "metadata": {
    "collapsed": false,
    "pycharm": {
     "name": "#%% md\n"
    }
   }
  },
  {
   "cell_type": "code",
   "execution_count": 15,
   "outputs": [],
   "source": [
    "zad2 = pd.read_csv('Wzrost.csv', header=None)"
   ],
   "metadata": {
    "collapsed": false,
    "pycharm": {
     "name": "#%%\n"
    }
   }
  },
  {
   "cell_type": "code",
   "execution_count": 16,
   "outputs": [],
   "source": [
    "zad2 = pd.DataFrame(zad2.T)"
   ],
   "metadata": {
    "collapsed": false,
    "pycharm": {
     "name": "#%%\n"
    }
   }
  },
  {
   "cell_type": "code",
   "execution_count": 17,
   "outputs": [],
   "source": [
    "import statistics"
   ],
   "metadata": {
    "collapsed": false,
    "pycharm": {
     "name": "#%%\n"
    }
   }
  },
  {
   "cell_type": "code",
   "execution_count": 18,
   "outputs": [
    {
     "data": {
      "text/plain": "      0\n0   156\n1   158\n2   167\n3   188\n4   197\n5   167\n6   197\n7   178\n8   186\n9   157\n10  198\n11  199\n12  178\n13  168\n14  156\n15  151\n16  167\n17  167",
      "text/html": "<div>\n<style scoped>\n    .dataframe tbody tr th:only-of-type {\n        vertical-align: middle;\n    }\n\n    .dataframe tbody tr th {\n        vertical-align: top;\n    }\n\n    .dataframe thead th {\n        text-align: right;\n    }\n</style>\n<table border=\"1\" class=\"dataframe\">\n  <thead>\n    <tr style=\"text-align: right;\">\n      <th></th>\n      <th>0</th>\n    </tr>\n  </thead>\n  <tbody>\n    <tr>\n      <th>0</th>\n      <td>156</td>\n    </tr>\n    <tr>\n      <th>1</th>\n      <td>158</td>\n    </tr>\n    <tr>\n      <th>2</th>\n      <td>167</td>\n    </tr>\n    <tr>\n      <th>3</th>\n      <td>188</td>\n    </tr>\n    <tr>\n      <th>4</th>\n      <td>197</td>\n    </tr>\n    <tr>\n      <th>5</th>\n      <td>167</td>\n    </tr>\n    <tr>\n      <th>6</th>\n      <td>197</td>\n    </tr>\n    <tr>\n      <th>7</th>\n      <td>178</td>\n    </tr>\n    <tr>\n      <th>8</th>\n      <td>186</td>\n    </tr>\n    <tr>\n      <th>9</th>\n      <td>157</td>\n    </tr>\n    <tr>\n      <th>10</th>\n      <td>198</td>\n    </tr>\n    <tr>\n      <th>11</th>\n      <td>199</td>\n    </tr>\n    <tr>\n      <th>12</th>\n      <td>178</td>\n    </tr>\n    <tr>\n      <th>13</th>\n      <td>168</td>\n    </tr>\n    <tr>\n      <th>14</th>\n      <td>156</td>\n    </tr>\n    <tr>\n      <th>15</th>\n      <td>151</td>\n    </tr>\n    <tr>\n      <th>16</th>\n      <td>167</td>\n    </tr>\n    <tr>\n      <th>17</th>\n      <td>167</td>\n    </tr>\n  </tbody>\n</table>\n</div>"
     },
     "execution_count": 18,
     "metadata": {},
     "output_type": "execute_result"
    }
   ],
   "source": [
    "zad2"
   ],
   "metadata": {
    "collapsed": false,
    "pycharm": {
     "name": "#%%\n"
    }
   }
  },
  {
   "cell_type": "code",
   "execution_count": 19,
   "outputs": [
    {
     "data": {
      "text/plain": "0    269.676471\ndtype: float64"
     },
     "execution_count": 19,
     "metadata": {},
     "output_type": "execute_result"
    }
   ],
   "source": [
    "zad2.var()"
   ],
   "metadata": {
    "collapsed": false,
    "pycharm": {
     "name": "#%%\n"
    }
   }
  },
  {
   "cell_type": "code",
   "execution_count": 20,
   "outputs": [
    {
     "data": {
      "text/plain": "0    16.421829\ndtype: float64"
     },
     "execution_count": 20,
     "metadata": {},
     "output_type": "execute_result"
    }
   ],
   "source": [
    "zad2.std()"
   ],
   "metadata": {
    "collapsed": false,
    "pycharm": {
     "name": "#%%\n"
    }
   }
  },
  {
   "cell_type": "code",
   "execution_count": 29,
   "outputs": [],
   "source": [
    "lista = zad2.values"
   ],
   "metadata": {
    "collapsed": false,
    "pycharm": {
     "name": "#%%\n"
    }
   }
  },
  {
   "cell_type": "code",
   "execution_count": 32,
   "outputs": [
    {
     "data": {
      "text/plain": "269"
     },
     "execution_count": 32,
     "metadata": {},
     "output_type": "execute_result"
    }
   ],
   "source": [
    "statistics.variance(lista.flatten())"
   ],
   "metadata": {
    "collapsed": false,
    "pycharm": {
     "name": "#%%\n"
    }
   }
  },
  {
   "cell_type": "code",
   "execution_count": 33,
   "outputs": [
    {
     "data": {
      "text/plain": "16.401219466856727"
     },
     "execution_count": 33,
     "metadata": {},
     "output_type": "execute_result"
    }
   ],
   "source": [
    "statistics.stdev(lista.flatten())"
   ],
   "metadata": {
    "collapsed": false,
    "pycharm": {
     "name": "#%%\n"
    }
   }
  },
  {
   "cell_type": "code",
   "execution_count": null,
   "outputs": [],
   "source": [
    "# z modułu variancja jest przycinana do wartości calkowitej"
   ],
   "metadata": {
    "collapsed": false,
    "pycharm": {
     "name": "#%%\n"
    }
   }
  },
  {
   "cell_type": "markdown",
   "source": [
    "Znajdź dowolny plik csv. Zastosuj do niego statystyki z biblioteki scipy.stats. Sprawdź, jakie inne statystyki opisowe można znaleźć w tej bibliotece."
   ],
   "metadata": {
    "collapsed": false,
    "pycharm": {
     "name": "#%% md\n"
    }
   }
  },
  {
   "cell_type": "code",
   "execution_count": 39,
   "outputs": [],
   "source": [
    "import scipy.stats as st"
   ],
   "metadata": {
    "collapsed": false,
    "pycharm": {
     "name": "#%%\n"
    }
   }
  },
  {
   "cell_type": "code",
   "execution_count": 35,
   "outputs": [],
   "source": [
    "zad3 = pd.read_csv(\"MDR_RR_TB_burden_estimates_2023-01-11.csv\")"
   ],
   "metadata": {
    "collapsed": false,
    "pycharm": {
     "name": "#%%\n"
    }
   }
  },
  {
   "cell_type": "code",
   "execution_count": 36,
   "outputs": [
    {
     "data": {
      "text/plain": "          country iso2 iso3  iso_numeric g_whoregion  year  \\\n0     Afghanistan   AF  AFG            4         EMR  2015   \n1     Afghanistan   AF  AFG            4         EMR  2016   \n2     Afghanistan   AF  AFG            4         EMR  2017   \n3     Afghanistan   AF  AFG            4         EMR  2018   \n4     Afghanistan   AF  AFG            4         EMR  2019   \n...           ...  ...  ...          ...         ...   ...   \n1486     Zimbabwe   ZW  ZWE          716         AFR  2017   \n1487     Zimbabwe   ZW  ZWE          716         AFR  2018   \n1488     Zimbabwe   ZW  ZWE          716         AFR  2019   \n1489     Zimbabwe   ZW  ZWE          716         AFR  2020   \n1490     Zimbabwe   ZW  ZWE          716         AFR  2021   \n\n              source_rr_new  e_rr_pct_new  e_rr_pct_new_lo  e_rr_pct_new_hi  \\\n0                     Model           5.1             0.45             19.0   \n1                     Model           5.1             0.50             20.0   \n2                     Model           5.2             0.53             19.0   \n3                     Model           5.2             0.54             20.0   \n4                     Model           5.3             0.55             20.0   \n...                     ...           ...              ...              ...   \n1486  Survey & Surveillance           3.5             3.20              3.8   \n1487  Survey & Surveillance           2.9             2.70              3.1   \n1488  Survey & Surveillance           2.4             2.20              2.7   \n1489  Survey & Surveillance           2.0             1.70              2.4   \n1490  Survey & Surveillance           1.7             1.30              2.1   \n\n              source_rr_ret  e_rr_pct_ret  e_rr_pct_ret_lo  e_rr_pct_ret_hi  \\\n0              Surveillance           8.6              6.5             11.0   \n1              Surveillance          11.0              9.4             14.0   \n2              Surveillance          15.0             13.0             16.0   \n3              Surveillance          19.0             17.0             20.0   \n4              Surveillance          24.0             21.0             26.0   \n...                     ...           ...              ...              ...   \n1486  Survey & Surveillance          20.0             16.0             24.0   \n1487  Survey & Surveillance          21.0             18.0             25.0   \n1488  Survey & Surveillance          23.0             20.0             27.0   \n1489  Survey & Surveillance          25.0             20.0             30.0   \n1490  Survey & Surveillance          28.0             21.0             34.0   \n\n      e_inc_rr_num  e_inc_rr_num_lo  e_inc_rr_num_hi  \n0             3600                0            10000  \n1             3800                0            11000  \n2             3900                0            11000  \n3             4100                0            12000  \n4             4300                0            12000  \n...            ...              ...              ...  \n1486          1500             1000             2000  \n1487          1200              850             1600  \n1488          1000              710             1400  \n1489           830              540             1100  \n1490           780              480             1100  \n\n[1491 rows x 17 columns]",
      "text/html": "<div>\n<style scoped>\n    .dataframe tbody tr th:only-of-type {\n        vertical-align: middle;\n    }\n\n    .dataframe tbody tr th {\n        vertical-align: top;\n    }\n\n    .dataframe thead th {\n        text-align: right;\n    }\n</style>\n<table border=\"1\" class=\"dataframe\">\n  <thead>\n    <tr style=\"text-align: right;\">\n      <th></th>\n      <th>country</th>\n      <th>iso2</th>\n      <th>iso3</th>\n      <th>iso_numeric</th>\n      <th>g_whoregion</th>\n      <th>year</th>\n      <th>source_rr_new</th>\n      <th>e_rr_pct_new</th>\n      <th>e_rr_pct_new_lo</th>\n      <th>e_rr_pct_new_hi</th>\n      <th>source_rr_ret</th>\n      <th>e_rr_pct_ret</th>\n      <th>e_rr_pct_ret_lo</th>\n      <th>e_rr_pct_ret_hi</th>\n      <th>e_inc_rr_num</th>\n      <th>e_inc_rr_num_lo</th>\n      <th>e_inc_rr_num_hi</th>\n    </tr>\n  </thead>\n  <tbody>\n    <tr>\n      <th>0</th>\n      <td>Afghanistan</td>\n      <td>AF</td>\n      <td>AFG</td>\n      <td>4</td>\n      <td>EMR</td>\n      <td>2015</td>\n      <td>Model</td>\n      <td>5.1</td>\n      <td>0.45</td>\n      <td>19.0</td>\n      <td>Surveillance</td>\n      <td>8.6</td>\n      <td>6.5</td>\n      <td>11.0</td>\n      <td>3600</td>\n      <td>0</td>\n      <td>10000</td>\n    </tr>\n    <tr>\n      <th>1</th>\n      <td>Afghanistan</td>\n      <td>AF</td>\n      <td>AFG</td>\n      <td>4</td>\n      <td>EMR</td>\n      <td>2016</td>\n      <td>Model</td>\n      <td>5.1</td>\n      <td>0.50</td>\n      <td>20.0</td>\n      <td>Surveillance</td>\n      <td>11.0</td>\n      <td>9.4</td>\n      <td>14.0</td>\n      <td>3800</td>\n      <td>0</td>\n      <td>11000</td>\n    </tr>\n    <tr>\n      <th>2</th>\n      <td>Afghanistan</td>\n      <td>AF</td>\n      <td>AFG</td>\n      <td>4</td>\n      <td>EMR</td>\n      <td>2017</td>\n      <td>Model</td>\n      <td>5.2</td>\n      <td>0.53</td>\n      <td>19.0</td>\n      <td>Surveillance</td>\n      <td>15.0</td>\n      <td>13.0</td>\n      <td>16.0</td>\n      <td>3900</td>\n      <td>0</td>\n      <td>11000</td>\n    </tr>\n    <tr>\n      <th>3</th>\n      <td>Afghanistan</td>\n      <td>AF</td>\n      <td>AFG</td>\n      <td>4</td>\n      <td>EMR</td>\n      <td>2018</td>\n      <td>Model</td>\n      <td>5.2</td>\n      <td>0.54</td>\n      <td>20.0</td>\n      <td>Surveillance</td>\n      <td>19.0</td>\n      <td>17.0</td>\n      <td>20.0</td>\n      <td>4100</td>\n      <td>0</td>\n      <td>12000</td>\n    </tr>\n    <tr>\n      <th>4</th>\n      <td>Afghanistan</td>\n      <td>AF</td>\n      <td>AFG</td>\n      <td>4</td>\n      <td>EMR</td>\n      <td>2019</td>\n      <td>Model</td>\n      <td>5.3</td>\n      <td>0.55</td>\n      <td>20.0</td>\n      <td>Surveillance</td>\n      <td>24.0</td>\n      <td>21.0</td>\n      <td>26.0</td>\n      <td>4300</td>\n      <td>0</td>\n      <td>12000</td>\n    </tr>\n    <tr>\n      <th>...</th>\n      <td>...</td>\n      <td>...</td>\n      <td>...</td>\n      <td>...</td>\n      <td>...</td>\n      <td>...</td>\n      <td>...</td>\n      <td>...</td>\n      <td>...</td>\n      <td>...</td>\n      <td>...</td>\n      <td>...</td>\n      <td>...</td>\n      <td>...</td>\n      <td>...</td>\n      <td>...</td>\n      <td>...</td>\n    </tr>\n    <tr>\n      <th>1486</th>\n      <td>Zimbabwe</td>\n      <td>ZW</td>\n      <td>ZWE</td>\n      <td>716</td>\n      <td>AFR</td>\n      <td>2017</td>\n      <td>Survey &amp; Surveillance</td>\n      <td>3.5</td>\n      <td>3.20</td>\n      <td>3.8</td>\n      <td>Survey &amp; Surveillance</td>\n      <td>20.0</td>\n      <td>16.0</td>\n      <td>24.0</td>\n      <td>1500</td>\n      <td>1000</td>\n      <td>2000</td>\n    </tr>\n    <tr>\n      <th>1487</th>\n      <td>Zimbabwe</td>\n      <td>ZW</td>\n      <td>ZWE</td>\n      <td>716</td>\n      <td>AFR</td>\n      <td>2018</td>\n      <td>Survey &amp; Surveillance</td>\n      <td>2.9</td>\n      <td>2.70</td>\n      <td>3.1</td>\n      <td>Survey &amp; Surveillance</td>\n      <td>21.0</td>\n      <td>18.0</td>\n      <td>25.0</td>\n      <td>1200</td>\n      <td>850</td>\n      <td>1600</td>\n    </tr>\n    <tr>\n      <th>1488</th>\n      <td>Zimbabwe</td>\n      <td>ZW</td>\n      <td>ZWE</td>\n      <td>716</td>\n      <td>AFR</td>\n      <td>2019</td>\n      <td>Survey &amp; Surveillance</td>\n      <td>2.4</td>\n      <td>2.20</td>\n      <td>2.7</td>\n      <td>Survey &amp; Surveillance</td>\n      <td>23.0</td>\n      <td>20.0</td>\n      <td>27.0</td>\n      <td>1000</td>\n      <td>710</td>\n      <td>1400</td>\n    </tr>\n    <tr>\n      <th>1489</th>\n      <td>Zimbabwe</td>\n      <td>ZW</td>\n      <td>ZWE</td>\n      <td>716</td>\n      <td>AFR</td>\n      <td>2020</td>\n      <td>Survey &amp; Surveillance</td>\n      <td>2.0</td>\n      <td>1.70</td>\n      <td>2.4</td>\n      <td>Survey &amp; Surveillance</td>\n      <td>25.0</td>\n      <td>20.0</td>\n      <td>30.0</td>\n      <td>830</td>\n      <td>540</td>\n      <td>1100</td>\n    </tr>\n    <tr>\n      <th>1490</th>\n      <td>Zimbabwe</td>\n      <td>ZW</td>\n      <td>ZWE</td>\n      <td>716</td>\n      <td>AFR</td>\n      <td>2021</td>\n      <td>Survey &amp; Surveillance</td>\n      <td>1.7</td>\n      <td>1.30</td>\n      <td>2.1</td>\n      <td>Survey &amp; Surveillance</td>\n      <td>28.0</td>\n      <td>21.0</td>\n      <td>34.0</td>\n      <td>780</td>\n      <td>480</td>\n      <td>1100</td>\n    </tr>\n  </tbody>\n</table>\n<p>1491 rows × 17 columns</p>\n</div>"
     },
     "execution_count": 36,
     "metadata": {},
     "output_type": "execute_result"
    }
   ],
   "source": [
    "zad3"
   ],
   "metadata": {
    "collapsed": false,
    "pycharm": {
     "name": "#%%\n"
    }
   }
  },
  {
   "cell_type": "code",
   "execution_count": 37,
   "outputs": [],
   "source": [
    "zad3 = zad3[['e_rr_pct_new', 'e_rr_pct_new_lo', 'e_rr_pct_ret_hi']]"
   ],
   "metadata": {
    "collapsed": false,
    "pycharm": {
     "name": "#%%\n"
    }
   }
  },
  {
   "cell_type": "code",
   "execution_count": 38,
   "outputs": [
    {
     "data": {
      "text/plain": "      e_rr_pct_new  e_rr_pct_new_lo  e_rr_pct_ret_hi\n0              5.1             0.45             11.0\n1              5.1             0.50             14.0\n2              5.2             0.53             16.0\n3              5.2             0.54             20.0\n4              5.3             0.55             26.0\n...            ...              ...              ...\n1486           3.5             3.20             24.0\n1487           2.9             2.70             25.0\n1488           2.4             2.20             27.0\n1489           2.0             1.70             30.0\n1490           1.7             1.30             34.0\n\n[1491 rows x 3 columns]",
      "text/html": "<div>\n<style scoped>\n    .dataframe tbody tr th:only-of-type {\n        vertical-align: middle;\n    }\n\n    .dataframe tbody tr th {\n        vertical-align: top;\n    }\n\n    .dataframe thead th {\n        text-align: right;\n    }\n</style>\n<table border=\"1\" class=\"dataframe\">\n  <thead>\n    <tr style=\"text-align: right;\">\n      <th></th>\n      <th>e_rr_pct_new</th>\n      <th>e_rr_pct_new_lo</th>\n      <th>e_rr_pct_ret_hi</th>\n    </tr>\n  </thead>\n  <tbody>\n    <tr>\n      <th>0</th>\n      <td>5.1</td>\n      <td>0.45</td>\n      <td>11.0</td>\n    </tr>\n    <tr>\n      <th>1</th>\n      <td>5.1</td>\n      <td>0.50</td>\n      <td>14.0</td>\n    </tr>\n    <tr>\n      <th>2</th>\n      <td>5.2</td>\n      <td>0.53</td>\n      <td>16.0</td>\n    </tr>\n    <tr>\n      <th>3</th>\n      <td>5.2</td>\n      <td>0.54</td>\n      <td>20.0</td>\n    </tr>\n    <tr>\n      <th>4</th>\n      <td>5.3</td>\n      <td>0.55</td>\n      <td>26.0</td>\n    </tr>\n    <tr>\n      <th>...</th>\n      <td>...</td>\n      <td>...</td>\n      <td>...</td>\n    </tr>\n    <tr>\n      <th>1486</th>\n      <td>3.5</td>\n      <td>3.20</td>\n      <td>24.0</td>\n    </tr>\n    <tr>\n      <th>1487</th>\n      <td>2.9</td>\n      <td>2.70</td>\n      <td>25.0</td>\n    </tr>\n    <tr>\n      <th>1488</th>\n      <td>2.4</td>\n      <td>2.20</td>\n      <td>27.0</td>\n    </tr>\n    <tr>\n      <th>1489</th>\n      <td>2.0</td>\n      <td>1.70</td>\n      <td>30.0</td>\n    </tr>\n    <tr>\n      <th>1490</th>\n      <td>1.7</td>\n      <td>1.30</td>\n      <td>34.0</td>\n    </tr>\n  </tbody>\n</table>\n<p>1491 rows × 3 columns</p>\n</div>"
     },
     "execution_count": 38,
     "metadata": {},
     "output_type": "execute_result"
    }
   ],
   "source": [
    "zad3"
   ],
   "metadata": {
    "collapsed": false,
    "pycharm": {
     "name": "#%%\n"
    }
   }
  },
  {
   "cell_type": "code",
   "execution_count": 40,
   "outputs": [
    {
     "data": {
      "text/plain": "DescribeResult(nobs=1491, minmax=(array([0.25, 0.1 , 3.2 ]), array([45., 41., 91.])), mean=array([ 3.89638498,  2.69395708, 31.59604292]), variance=array([ 37.10696431,  36.35132017, 453.8176152 ]), skewness=array([3.89216448, 3.98019495, 0.64830568]), kurtosis=array([15.72098161, 16.13252892, -0.65741666]))"
     },
     "execution_count": 40,
     "metadata": {},
     "output_type": "execute_result"
    }
   ],
   "source": [
    "st.describe(zad3)\n",
    "#Computes several descriptive statistics of the passed array"
   ],
   "metadata": {
    "collapsed": false,
    "pycharm": {
     "name": "#%%\n"
    }
   }
  },
  {
   "cell_type": "code",
   "execution_count": 43,
   "outputs": [
    {
     "data": {
      "text/plain": "array([ 2.37809263,  0.94632198, 24.08977585])"
     },
     "execution_count": 43,
     "metadata": {},
     "output_type": "execute_result"
    }
   ],
   "source": [
    "st.gmean(zad3)\n",
    "#Computes geometric mean along the specified axis"
   ],
   "metadata": {
    "collapsed": false,
    "pycharm": {
     "name": "#%%\n"
    }
   }
  },
  {
   "cell_type": "code",
   "execution_count": 44,
   "outputs": [
    {
     "data": {
      "text/plain": "array([ 1.75147335,  0.51557434, 17.31608962])"
     },
     "execution_count": 44,
     "metadata": {},
     "output_type": "execute_result"
    }
   ],
   "source": [
    "st.hmean(zad3)\n",
    "#Calculates the harmonic mean along the specified axis"
   ],
   "metadata": {
    "collapsed": false,
    "pycharm": {
     "name": "#%%\n"
    }
   }
  },
  {
   "cell_type": "code",
   "execution_count": 45,
   "outputs": [
    {
     "data": {
      "text/plain": "array([15.72098161, 16.13252892, -0.65741666])"
     },
     "execution_count": 45,
     "metadata": {},
     "output_type": "execute_result"
    }
   ],
   "source": [
    "st.kurtosis(zad3)\n",
    "#Computes the kurtosis"
   ],
   "metadata": {
    "collapsed": false,
    "pycharm": {
     "name": "#%%\n"
    }
   }
  },
  {
   "cell_type": "code",
   "execution_count": 46,
   "outputs": [
    {
     "data": {
      "text/plain": "ModeResult(mode=array([[ 1.1,  1.2, 14. ]]), count=array([[71, 49, 45]]))"
     },
     "execution_count": 46,
     "metadata": {},
     "output_type": "execute_result"
    }
   ],
   "source": [
    "st.mode(zad3)\n",
    "#Returns the modal value"
   ],
   "metadata": {
    "collapsed": false,
    "pycharm": {
     "name": "#%%\n"
    }
   }
  },
  {
   "cell_type": "code",
   "execution_count": 47,
   "outputs": [
    {
     "data": {
      "text/plain": "array([3.89216448, 3.98019495, 0.64830568])"
     },
     "execution_count": 47,
     "metadata": {},
     "output_type": "execute_result"
    }
   ],
   "source": [
    "st.skew(zad3)\n",
    "#Tests the skewness of the data"
   ],
   "metadata": {
    "collapsed": false,
    "pycharm": {
     "name": "#%%\n"
    }
   }
  },
  {
   "cell_type": "code",
   "execution_count": 49,
   "outputs": [
    {
     "data": {
      "text/plain": "      e_rr_pct_new  e_rr_pct_new_lo  e_rr_pct_ret_hi\n0         0.197654        -0.372306        -0.967139\n1         0.197654        -0.364010        -0.826266\n2         0.214076        -0.359033        -0.732351\n3         0.214076        -0.357374        -0.544521\n4         0.230497        -0.355715        -0.262776\n...            ...              ...              ...\n1486     -0.065093         0.083960        -0.356691\n1487     -0.163623         0.001003        -0.309734\n1488     -0.245732        -0.081955        -0.215819\n1489     -0.311419        -0.164912        -0.074946\n1490     -0.360684        -0.231278         0.112884\n\n[1491 rows x 3 columns]",
      "text/html": "<div>\n<style scoped>\n    .dataframe tbody tr th:only-of-type {\n        vertical-align: middle;\n    }\n\n    .dataframe tbody tr th {\n        vertical-align: top;\n    }\n\n    .dataframe thead th {\n        text-align: right;\n    }\n</style>\n<table border=\"1\" class=\"dataframe\">\n  <thead>\n    <tr style=\"text-align: right;\">\n      <th></th>\n      <th>e_rr_pct_new</th>\n      <th>e_rr_pct_new_lo</th>\n      <th>e_rr_pct_ret_hi</th>\n    </tr>\n  </thead>\n  <tbody>\n    <tr>\n      <th>0</th>\n      <td>0.197654</td>\n      <td>-0.372306</td>\n      <td>-0.967139</td>\n    </tr>\n    <tr>\n      <th>1</th>\n      <td>0.197654</td>\n      <td>-0.364010</td>\n      <td>-0.826266</td>\n    </tr>\n    <tr>\n      <th>2</th>\n      <td>0.214076</td>\n      <td>-0.359033</td>\n      <td>-0.732351</td>\n    </tr>\n    <tr>\n      <th>3</th>\n      <td>0.214076</td>\n      <td>-0.357374</td>\n      <td>-0.544521</td>\n    </tr>\n    <tr>\n      <th>4</th>\n      <td>0.230497</td>\n      <td>-0.355715</td>\n      <td>-0.262776</td>\n    </tr>\n    <tr>\n      <th>...</th>\n      <td>...</td>\n      <td>...</td>\n      <td>...</td>\n    </tr>\n    <tr>\n      <th>1486</th>\n      <td>-0.065093</td>\n      <td>0.083960</td>\n      <td>-0.356691</td>\n    </tr>\n    <tr>\n      <th>1487</th>\n      <td>-0.163623</td>\n      <td>0.001003</td>\n      <td>-0.309734</td>\n    </tr>\n    <tr>\n      <th>1488</th>\n      <td>-0.245732</td>\n      <td>-0.081955</td>\n      <td>-0.215819</td>\n    </tr>\n    <tr>\n      <th>1489</th>\n      <td>-0.311419</td>\n      <td>-0.164912</td>\n      <td>-0.074946</td>\n    </tr>\n    <tr>\n      <th>1490</th>\n      <td>-0.360684</td>\n      <td>-0.231278</td>\n      <td>0.112884</td>\n    </tr>\n  </tbody>\n</table>\n<p>1491 rows × 3 columns</p>\n</div>"
     },
     "execution_count": 49,
     "metadata": {},
     "output_type": "execute_result"
    }
   ],
   "source": [
    "st.zscore(zad3)\n",
    "#Calculates the z score of each value in the sample, relative to the sample mean and standard deviation"
   ],
   "metadata": {
    "collapsed": false,
    "pycharm": {
     "name": "#%%\n"
    }
   }
  },
  {
   "cell_type": "code",
   "execution_count": 50,
   "outputs": [
    {
     "data": {
      "text/plain": "array([0.15775709, 0.15614255, 0.55169856])"
     },
     "execution_count": 50,
     "metadata": {},
     "output_type": "execute_result"
    }
   ],
   "source": [
    "st.sem(zad3)\n",
    "#Calculates the standard error of the mean (or standard error of measurement) of the values in the input array"
   ],
   "metadata": {
    "collapsed": false,
    "pycharm": {
     "name": "#%%\n"
    }
   }
  },
  {
   "cell_type": "markdown",
   "source": [
    "Załaduj plik brain_size.csv do pandas DataFrame. Znajdź średnią dla kolumny VIQ. Ile kobiet i mężczyzn jest wyróżnionych w pliku. Wyświetl histogramy dla zmiennych VIQ, PIQ, FSIQ. Wyświetl histogramy trzech kolumn tylko dla kobiet."
   ],
   "metadata": {
    "collapsed": false,
    "pycharm": {
     "name": "#%% md\n"
    }
   }
  },
  {
   "cell_type": "code",
   "execution_count": 53,
   "outputs": [],
   "source": [
    "zad4 = pd.read_csv('brain_size.csv', sep=';')"
   ],
   "metadata": {
    "collapsed": false,
    "pycharm": {
     "name": "#%%\n"
    }
   }
  },
  {
   "cell_type": "code",
   "execution_count": 54,
   "outputs": [
    {
     "data": {
      "text/plain": "    Unnamed: 0  Gender  FSIQ  VIQ  PIQ Weight Height  MRI_Count\n0            1  Female   133  132  124    118   64.5     816932\n1            2    Male   140  150  124      .   72.5    1001121\n2            3    Male   139  123  150    143   73.3    1038437\n3            4    Male   133  129  128    172   68.8     965353\n4            5  Female   137  132  134    147   65.0     951545\n5            6  Female    99   90  110    146   69.0     928799\n6            7  Female   138  136  131    138   64.5     991305\n7            8  Female    92   90   98    175   66.0     854258\n8            9    Male    89   93   84    134   66.3     904858\n9           10    Male   133  114  147    172   68.8     955466\n10          11  Female   132  129  124    118   64.5     833868\n11          12    Male   141  150  128    151   70.0    1079549\n12          13    Male   135  129  124    155   69.0     924059\n13          14  Female   140  120  147    155   70.5     856472\n14          15  Female    96  100   90    146   66.0     878897\n15          16  Female    83   71   96    135   68.0     865363\n16          17  Female   132  132  120    127   68.5     852244\n17          18    Male   100   96  102    178   73.5     945088\n18          19  Female   101  112   84    136   66.3     808020\n19          20    Male    80   77   86    180   70.0     889083\n20          21    Male    83   83   86      .      .     892420\n21          22    Male    97  107   84    186   76.5     905940\n22          23  Female   135  129  134    122   62.0     790619\n23          24    Male   139  145  128    132   68.0     955003\n24          25  Female    91   86  102    114   63.0     831772\n25          26    Male   141  145  131    171   72.0     935494\n26          27  Female    85   90   84    140   68.0     798612\n27          28    Male   103   96  110    187   77.0    1062462\n28          29  Female    77   83   72    106   63.0     793549\n29          30  Female   130  126  124    159   66.5     866662\n30          31  Female   133  126  132    127   62.5     857782\n31          32    Male   144  145  137    191   67.0     949589\n32          33    Male   103   96  110    192   75.5     997925\n33          34    Male    90   96   86    181   69.0     879987\n34          35  Female    83   90   81    143   66.5     834344\n35          36  Female   133  129  128    153   66.5     948066\n36          37    Male   140  150  124    144   70.5     949395\n37          38  Female    88   86   94    139   64.5     893983\n38          39    Male    81   90   74    148   74.0     930016\n39          40    Male    89   91   89    179   75.5     935863",
      "text/html": "<div>\n<style scoped>\n    .dataframe tbody tr th:only-of-type {\n        vertical-align: middle;\n    }\n\n    .dataframe tbody tr th {\n        vertical-align: top;\n    }\n\n    .dataframe thead th {\n        text-align: right;\n    }\n</style>\n<table border=\"1\" class=\"dataframe\">\n  <thead>\n    <tr style=\"text-align: right;\">\n      <th></th>\n      <th>Unnamed: 0</th>\n      <th>Gender</th>\n      <th>FSIQ</th>\n      <th>VIQ</th>\n      <th>PIQ</th>\n      <th>Weight</th>\n      <th>Height</th>\n      <th>MRI_Count</th>\n    </tr>\n  </thead>\n  <tbody>\n    <tr>\n      <th>0</th>\n      <td>1</td>\n      <td>Female</td>\n      <td>133</td>\n      <td>132</td>\n      <td>124</td>\n      <td>118</td>\n      <td>64.5</td>\n      <td>816932</td>\n    </tr>\n    <tr>\n      <th>1</th>\n      <td>2</td>\n      <td>Male</td>\n      <td>140</td>\n      <td>150</td>\n      <td>124</td>\n      <td>.</td>\n      <td>72.5</td>\n      <td>1001121</td>\n    </tr>\n    <tr>\n      <th>2</th>\n      <td>3</td>\n      <td>Male</td>\n      <td>139</td>\n      <td>123</td>\n      <td>150</td>\n      <td>143</td>\n      <td>73.3</td>\n      <td>1038437</td>\n    </tr>\n    <tr>\n      <th>3</th>\n      <td>4</td>\n      <td>Male</td>\n      <td>133</td>\n      <td>129</td>\n      <td>128</td>\n      <td>172</td>\n      <td>68.8</td>\n      <td>965353</td>\n    </tr>\n    <tr>\n      <th>4</th>\n      <td>5</td>\n      <td>Female</td>\n      <td>137</td>\n      <td>132</td>\n      <td>134</td>\n      <td>147</td>\n      <td>65.0</td>\n      <td>951545</td>\n    </tr>\n    <tr>\n      <th>5</th>\n      <td>6</td>\n      <td>Female</td>\n      <td>99</td>\n      <td>90</td>\n      <td>110</td>\n      <td>146</td>\n      <td>69.0</td>\n      <td>928799</td>\n    </tr>\n    <tr>\n      <th>6</th>\n      <td>7</td>\n      <td>Female</td>\n      <td>138</td>\n      <td>136</td>\n      <td>131</td>\n      <td>138</td>\n      <td>64.5</td>\n      <td>991305</td>\n    </tr>\n    <tr>\n      <th>7</th>\n      <td>8</td>\n      <td>Female</td>\n      <td>92</td>\n      <td>90</td>\n      <td>98</td>\n      <td>175</td>\n      <td>66.0</td>\n      <td>854258</td>\n    </tr>\n    <tr>\n      <th>8</th>\n      <td>9</td>\n      <td>Male</td>\n      <td>89</td>\n      <td>93</td>\n      <td>84</td>\n      <td>134</td>\n      <td>66.3</td>\n      <td>904858</td>\n    </tr>\n    <tr>\n      <th>9</th>\n      <td>10</td>\n      <td>Male</td>\n      <td>133</td>\n      <td>114</td>\n      <td>147</td>\n      <td>172</td>\n      <td>68.8</td>\n      <td>955466</td>\n    </tr>\n    <tr>\n      <th>10</th>\n      <td>11</td>\n      <td>Female</td>\n      <td>132</td>\n      <td>129</td>\n      <td>124</td>\n      <td>118</td>\n      <td>64.5</td>\n      <td>833868</td>\n    </tr>\n    <tr>\n      <th>11</th>\n      <td>12</td>\n      <td>Male</td>\n      <td>141</td>\n      <td>150</td>\n      <td>128</td>\n      <td>151</td>\n      <td>70.0</td>\n      <td>1079549</td>\n    </tr>\n    <tr>\n      <th>12</th>\n      <td>13</td>\n      <td>Male</td>\n      <td>135</td>\n      <td>129</td>\n      <td>124</td>\n      <td>155</td>\n      <td>69.0</td>\n      <td>924059</td>\n    </tr>\n    <tr>\n      <th>13</th>\n      <td>14</td>\n      <td>Female</td>\n      <td>140</td>\n      <td>120</td>\n      <td>147</td>\n      <td>155</td>\n      <td>70.5</td>\n      <td>856472</td>\n    </tr>\n    <tr>\n      <th>14</th>\n      <td>15</td>\n      <td>Female</td>\n      <td>96</td>\n      <td>100</td>\n      <td>90</td>\n      <td>146</td>\n      <td>66.0</td>\n      <td>878897</td>\n    </tr>\n    <tr>\n      <th>15</th>\n      <td>16</td>\n      <td>Female</td>\n      <td>83</td>\n      <td>71</td>\n      <td>96</td>\n      <td>135</td>\n      <td>68.0</td>\n      <td>865363</td>\n    </tr>\n    <tr>\n      <th>16</th>\n      <td>17</td>\n      <td>Female</td>\n      <td>132</td>\n      <td>132</td>\n      <td>120</td>\n      <td>127</td>\n      <td>68.5</td>\n      <td>852244</td>\n    </tr>\n    <tr>\n      <th>17</th>\n      <td>18</td>\n      <td>Male</td>\n      <td>100</td>\n      <td>96</td>\n      <td>102</td>\n      <td>178</td>\n      <td>73.5</td>\n      <td>945088</td>\n    </tr>\n    <tr>\n      <th>18</th>\n      <td>19</td>\n      <td>Female</td>\n      <td>101</td>\n      <td>112</td>\n      <td>84</td>\n      <td>136</td>\n      <td>66.3</td>\n      <td>808020</td>\n    </tr>\n    <tr>\n      <th>19</th>\n      <td>20</td>\n      <td>Male</td>\n      <td>80</td>\n      <td>77</td>\n      <td>86</td>\n      <td>180</td>\n      <td>70.0</td>\n      <td>889083</td>\n    </tr>\n    <tr>\n      <th>20</th>\n      <td>21</td>\n      <td>Male</td>\n      <td>83</td>\n      <td>83</td>\n      <td>86</td>\n      <td>.</td>\n      <td>.</td>\n      <td>892420</td>\n    </tr>\n    <tr>\n      <th>21</th>\n      <td>22</td>\n      <td>Male</td>\n      <td>97</td>\n      <td>107</td>\n      <td>84</td>\n      <td>186</td>\n      <td>76.5</td>\n      <td>905940</td>\n    </tr>\n    <tr>\n      <th>22</th>\n      <td>23</td>\n      <td>Female</td>\n      <td>135</td>\n      <td>129</td>\n      <td>134</td>\n      <td>122</td>\n      <td>62.0</td>\n      <td>790619</td>\n    </tr>\n    <tr>\n      <th>23</th>\n      <td>24</td>\n      <td>Male</td>\n      <td>139</td>\n      <td>145</td>\n      <td>128</td>\n      <td>132</td>\n      <td>68.0</td>\n      <td>955003</td>\n    </tr>\n    <tr>\n      <th>24</th>\n      <td>25</td>\n      <td>Female</td>\n      <td>91</td>\n      <td>86</td>\n      <td>102</td>\n      <td>114</td>\n      <td>63.0</td>\n      <td>831772</td>\n    </tr>\n    <tr>\n      <th>25</th>\n      <td>26</td>\n      <td>Male</td>\n      <td>141</td>\n      <td>145</td>\n      <td>131</td>\n      <td>171</td>\n      <td>72.0</td>\n      <td>935494</td>\n    </tr>\n    <tr>\n      <th>26</th>\n      <td>27</td>\n      <td>Female</td>\n      <td>85</td>\n      <td>90</td>\n      <td>84</td>\n      <td>140</td>\n      <td>68.0</td>\n      <td>798612</td>\n    </tr>\n    <tr>\n      <th>27</th>\n      <td>28</td>\n      <td>Male</td>\n      <td>103</td>\n      <td>96</td>\n      <td>110</td>\n      <td>187</td>\n      <td>77.0</td>\n      <td>1062462</td>\n    </tr>\n    <tr>\n      <th>28</th>\n      <td>29</td>\n      <td>Female</td>\n      <td>77</td>\n      <td>83</td>\n      <td>72</td>\n      <td>106</td>\n      <td>63.0</td>\n      <td>793549</td>\n    </tr>\n    <tr>\n      <th>29</th>\n      <td>30</td>\n      <td>Female</td>\n      <td>130</td>\n      <td>126</td>\n      <td>124</td>\n      <td>159</td>\n      <td>66.5</td>\n      <td>866662</td>\n    </tr>\n    <tr>\n      <th>30</th>\n      <td>31</td>\n      <td>Female</td>\n      <td>133</td>\n      <td>126</td>\n      <td>132</td>\n      <td>127</td>\n      <td>62.5</td>\n      <td>857782</td>\n    </tr>\n    <tr>\n      <th>31</th>\n      <td>32</td>\n      <td>Male</td>\n      <td>144</td>\n      <td>145</td>\n      <td>137</td>\n      <td>191</td>\n      <td>67.0</td>\n      <td>949589</td>\n    </tr>\n    <tr>\n      <th>32</th>\n      <td>33</td>\n      <td>Male</td>\n      <td>103</td>\n      <td>96</td>\n      <td>110</td>\n      <td>192</td>\n      <td>75.5</td>\n      <td>997925</td>\n    </tr>\n    <tr>\n      <th>33</th>\n      <td>34</td>\n      <td>Male</td>\n      <td>90</td>\n      <td>96</td>\n      <td>86</td>\n      <td>181</td>\n      <td>69.0</td>\n      <td>879987</td>\n    </tr>\n    <tr>\n      <th>34</th>\n      <td>35</td>\n      <td>Female</td>\n      <td>83</td>\n      <td>90</td>\n      <td>81</td>\n      <td>143</td>\n      <td>66.5</td>\n      <td>834344</td>\n    </tr>\n    <tr>\n      <th>35</th>\n      <td>36</td>\n      <td>Female</td>\n      <td>133</td>\n      <td>129</td>\n      <td>128</td>\n      <td>153</td>\n      <td>66.5</td>\n      <td>948066</td>\n    </tr>\n    <tr>\n      <th>36</th>\n      <td>37</td>\n      <td>Male</td>\n      <td>140</td>\n      <td>150</td>\n      <td>124</td>\n      <td>144</td>\n      <td>70.5</td>\n      <td>949395</td>\n    </tr>\n    <tr>\n      <th>37</th>\n      <td>38</td>\n      <td>Female</td>\n      <td>88</td>\n      <td>86</td>\n      <td>94</td>\n      <td>139</td>\n      <td>64.5</td>\n      <td>893983</td>\n    </tr>\n    <tr>\n      <th>38</th>\n      <td>39</td>\n      <td>Male</td>\n      <td>81</td>\n      <td>90</td>\n      <td>74</td>\n      <td>148</td>\n      <td>74.0</td>\n      <td>930016</td>\n    </tr>\n    <tr>\n      <th>39</th>\n      <td>40</td>\n      <td>Male</td>\n      <td>89</td>\n      <td>91</td>\n      <td>89</td>\n      <td>179</td>\n      <td>75.5</td>\n      <td>935863</td>\n    </tr>\n  </tbody>\n</table>\n</div>"
     },
     "execution_count": 54,
     "metadata": {},
     "output_type": "execute_result"
    }
   ],
   "source": [
    "zad4"
   ],
   "metadata": {
    "collapsed": false,
    "pycharm": {
     "name": "#%%\n"
    }
   }
  },
  {
   "cell_type": "code",
   "execution_count": 55,
   "outputs": [
    {
     "data": {
      "text/plain": "112.35"
     },
     "execution_count": 55,
     "metadata": {},
     "output_type": "execute_result"
    }
   ],
   "source": [
    "zad4['VIQ'].mean()"
   ],
   "metadata": {
    "collapsed": false,
    "pycharm": {
     "name": "#%%\n"
    }
   }
  },
  {
   "cell_type": "code",
   "execution_count": 56,
   "outputs": [],
   "source": [
    "import seaborn as sns"
   ],
   "metadata": {
    "collapsed": false,
    "pycharm": {
     "name": "#%%\n"
    }
   }
  },
  {
   "cell_type": "code",
   "execution_count": 62,
   "outputs": [
    {
     "data": {
      "text/plain": "Female    20\nMale      20\nName: Gender, dtype: int64"
     },
     "execution_count": 62,
     "metadata": {},
     "output_type": "execute_result"
    }
   ],
   "source": [
    "zad4['Gender'].value_counts()"
   ],
   "metadata": {
    "collapsed": false,
    "pycharm": {
     "name": "#%%\n"
    }
   }
  },
  {
   "cell_type": "code",
   "execution_count": 63,
   "outputs": [
    {
     "data": {
      "text/plain": "<AxesSubplot:xlabel='VIQ', ylabel='Count'>"
     },
     "execution_count": 63,
     "metadata": {},
     "output_type": "execute_result"
    },
    {
     "data": {
      "text/plain": "<Figure size 432x288 with 1 Axes>",
      "image/png": "[encoded data removed]"
     },
     "metadata": {
      "needs_background": "light"
     },
     "output_type": "display_data"
    }
   ],
   "source": [
    "sns.histplot(data=zad4, x='VIQ')"
   ],
   "metadata": {
    "collapsed": false,
    "pycharm": {
     "name": "#%%\n"
    }
   }
  },
  {
   "cell_type": "code",
   "execution_count": 64,
   "outputs": [
    {
     "data": {
      "text/plain": "<AxesSubplot:xlabel='PIQ', ylabel='Count'>"
     },
     "execution_count": 64,
     "metadata": {},
     "output_type": "execute_result"
    },
    {
     "data": {
      "text/plain": "<Figure size 432x288 with 1 Axes>",
      "image/png": "[encoded data removed]"
     },
     "metadata": {
      "needs_background": "light"
     },
     "output_type": "display_data"
    }
   ],
   "source": [
    "sns.histplot(data=zad4, x='PIQ')"
   ],
   "metadata": {
    "collapsed": false,
    "pycharm": {
     "name": "#%%\n"
    }
   }
  },
  {
   "cell_type": "code",
   "execution_count": 65,
   "outputs": [
    {
     "data": {
      "text/plain": "<AxesSubplot:xlabel='FSIQ', ylabel='Count'>"
     },
     "execution_count": 65,
     "metadata": {},
     "output_type": "execute_result"
    },
    {
     "data": {
      "text/plain": "<Figure size 432x288 with 1 Axes>",
      "image/png": "[encoded data removed]"
     },
     "metadata": {
      "needs_background": "light"
     },
     "output_type": "display_data"
    }
   ],
   "source": [
    "sns.histplot(data=zad4, x='FSIQ')"
   ],
   "metadata": {
    "collapsed": false,
    "pycharm": {
     "name": "#%%\n"
    }
   }
  },
  {
   "cell_type": "code",
   "execution_count": null,
   "outputs": [],
   "source": [],
   "metadata": {
    "collapsed": false,
    "pycharm": {
     "name": "#%%\n"
    }
   }
  }
 ],
 "metadata": {
  "kernelspec": {
   "display_name": "Python 3",
   "language": "python",
   "name": "python3"
  },
  "language_info": {
   "codemirror_mode": {
    "name": "ipython",
    "version": 2
   },
   "file_extension": ".py",
   "mimetype": "text/x-python",
   "name": "python",
   "nbconvert_exporter": "python",
   "pygments_lexer": "ipython2",
   "version": "2.7.6"
  }
 },
 "nbformat": 4,
 "nbformat_minor": 0
}