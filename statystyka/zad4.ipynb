{
 "cells": [
  {
   "cell_type": "markdown",
   "metadata": {
    "collapsed": true,
    "pycharm": {
     "name": "#%% md\n"
    }
   },
   "source": [
    "Wygeneruj próbę losową dla rozkładu normalnego dla średniej = 2, odchylenia = 30 i liczby elementów = 200. Zbadaj hipotezę mówiącą o tym, że średnia tego rozkładu jest równa 2,5."
   ]
  },
  {
   "cell_type": "code",
   "execution_count": 2,
   "outputs": [],
   "source": [
    "import numpy as np\n",
    "from scipy.stats import ttest_1samp"
   ],
   "metadata": {
    "collapsed": false,
    "pycharm": {
     "name": "#%%\n"
    }
   }
  },
  {
   "cell_type": "code",
   "execution_count": 3,
   "outputs": [],
   "source": [
    "norm = np.random.normal(loc=2, scale=30, size=200)"
   ],
   "metadata": {
    "collapsed": false,
    "pycharm": {
     "name": "#%%\n"
    }
   }
  },
  {
   "cell_type": "code",
   "execution_count": 4,
   "outputs": [
    {
     "data": {
      "text/plain": "array([ 3.25551494e+01,  8.99820217e+00, -1.33127012e+01, -3.11006798e+01,\n       -6.41966641e+00, -3.96317904e+01, -5.42330789e+01,  2.83450922e+01,\n       -1.20690882e+01,  1.10559954e+01,  8.92659350e+01, -4.42012640e+01,\n        1.55914903e+01,  1.32121285e+01,  2.53308093e+01, -4.84808043e+01,\n       -5.91497982e+01, -4.31229597e+00, -1.66708435e+01, -3.68921238e+00,\n        1.32298793e+01, -1.70628907e+01,  5.57942270e-01,  5.02003089e+01,\n        3.39008522e+01,  2.04467389e+01,  2.04219294e+01,  4.11428261e+01,\n       -2.69222556e+01, -1.89996450e+01, -1.68416705e+01,  3.66773065e+01,\n        8.46390711e+00,  2.21527096e+00, -2.30776995e+01,  2.45467080e+01,\n        3.04541992e+01, -4.01171058e+01, -1.23104246e+01,  1.63821814e+01,\n        5.21861632e+01, -2.12758291e+01,  2.81711445e+01, -2.57407784e+00,\n        1.78031602e+01, -1.07646842e+01,  2.72432984e+01, -1.15968522e+01,\n        2.42729351e+01,  5.56878236e+01,  1.20152359e+01,  1.37172435e+01,\n        2.63654012e+00, -2.98006774e+00,  2.42742597e+01,  5.96574321e+01,\n       -5.08942681e+01, -2.22968786e+01, -2.26194136e+01, -1.90642139e+01,\n        3.39049862e+01, -9.17107196e+00,  3.16085967e+01,  1.56162363e+00,\n        5.75414080e+01, -9.46866090e+00,  5.28056795e+01, -2.17857718e+01,\n        1.49365798e+01,  1.48356432e+01,  3.22849587e+01, -4.44277248e+01,\n        1.51640050e+01, -2.67542104e+01, -2.21342721e+01, -8.33295704e-02,\n        6.66011227e+01,  3.81261430e+01,  2.46953893e+00, -2.18096911e+01,\n       -6.91236483e+00,  2.75043152e+01, -1.67255048e+01, -1.55292829e+01,\n       -1.09169386e+01,  3.59331514e+01,  9.24740115e+00, -6.23145562e-01,\n        3.67313452e+01,  7.41362800e-01, -1.83873322e+01,  3.89024473e+01,\n       -5.36998494e-01, -6.10319154e+01, -3.97197015e+00,  2.39291605e+01,\n       -2.89292520e+01,  6.54553991e+01, -1.33231335e+01, -1.33108535e+01,\n        2.04486739e+01, -2.54268416e+01,  4.98047026e+01,  2.11645788e+01,\n       -2.95851478e+01, -2.86684971e+01, -6.52243769e+00, -4.08447316e+01,\n       -1.80412985e+01,  3.44976351e+01, -7.74635716e+00, -3.31662900e+00,\n       -2.18777764e+01,  2.87828459e+01,  5.29612895e+01,  3.58254415e+01,\n       -9.12359650e+00,  1.93621822e+01, -9.97123261e+00,  3.40318964e+01,\n       -7.57638061e+00,  1.72034090e+01, -2.92662499e+01, -2.97826656e-01,\n        6.87248226e+00,  1.66195866e+01,  5.56994470e+01, -6.98037400e+00,\n       -1.90148954e+01, -2.57417507e+01,  1.64854643e+01,  1.22975350e+01,\n       -1.27891093e+01, -2.09559229e+01,  5.33706907e+01, -9.97889261e+00,\n        5.56810587e+01,  2.68857724e+01, -7.60441556e+00, -2.03011355e+01,\n        5.25967362e+01,  2.09417281e+01,  1.82415270e+01,  2.90776151e+01,\n       -1.80267067e+01,  2.44879240e+01, -2.74159615e+01, -4.88516502e+00,\n        4.10627059e-01, -6.90685519e+01,  1.65819933e+01, -3.69835949e+01,\n       -3.33433612e+01,  4.44448075e+01, -8.21688572e+00, -9.50273605e+00,\n       -1.22100831e+01,  9.92395862e+00, -4.84767772e+01,  7.26358132e+00,\n        2.20487792e+01, -1.55993397e+01,  9.48596020e+00, -7.69926032e+00,\n       -5.63831832e+00, -2.49099888e+01,  1.10796113e+01,  3.20012217e+01,\n       -1.37730842e+01, -3.88913259e+00,  1.33057005e+01, -1.53760535e+00,\n        3.52328339e+01, -1.00839481e+01,  4.23510515e+01, -4.77507426e+00,\n       -1.03814864e+00, -2.33197459e+01, -3.88080589e+01, -2.23458738e+01,\n       -2.20408845e+01, -3.80988617e+00,  2.69748633e+01,  3.13037061e+01,\n       -4.88626442e+00,  2.59520579e+01, -1.84761173e+01,  1.35382411e+01,\n       -1.65438626e+00,  7.76286586e+00, -4.29398099e+01,  3.88031668e+01,\n        6.43067762e+01,  2.54275831e+01,  5.97310362e+01, -2.47769007e+01,\n        2.09347661e+01, -3.32383485e+01,  3.93253472e+01,  7.54657705e+01])"
     },
     "execution_count": 4,
     "metadata": {},
     "output_type": "execute_result"
    }
   ],
   "source": [
    "norm"
   ],
   "metadata": {
    "collapsed": false,
    "pycharm": {
     "name": "#%%\n"
    }
   }
  },
  {
   "cell_type": "code",
   "execution_count": 5,
   "outputs": [
    {
     "data": {
      "text/plain": "4.322186805872137"
     },
     "execution_count": 5,
     "metadata": {},
     "output_type": "execute_result"
    }
   ],
   "source": [
    "norm.mean()"
   ],
   "metadata": {
    "collapsed": false,
    "pycharm": {
     "name": "#%%\n"
    }
   }
  },
  {
   "cell_type": "code",
   "execution_count": 6,
   "outputs": [],
   "source": [
    "t_stat, p_val = ttest_1samp(norm, 2.5)"
   ],
   "metadata": {
    "collapsed": false,
    "pycharm": {
     "name": "#%%\n"
    }
   }
  },
  {
   "cell_type": "code",
   "execution_count": 7,
   "outputs": [
    {
     "data": {
      "text/plain": "0.8814124228906242"
     },
     "execution_count": 7,
     "metadata": {},
     "output_type": "execute_result"
    }
   ],
   "source": [
    "t_stat"
   ],
   "metadata": {
    "collapsed": false,
    "pycharm": {
     "name": "#%%\n"
    }
   }
  },
  {
   "cell_type": "code",
   "execution_count": 8,
   "outputs": [
    {
     "data": {
      "text/plain": "0.37915796995106044"
     },
     "execution_count": 8,
     "metadata": {},
     "output_type": "execute_result"
    }
   ],
   "source": [
    "p_val"
   ],
   "metadata": {
    "collapsed": false,
    "pycharm": {
     "name": "#%%\n"
    }
   }
  },
  {
   "cell_type": "code",
   "execution_count": 9,
   "outputs": [
    {
     "name": "stdout",
     "output_type": "stream",
     "text": [
      "srednia tego rozkładu nie wynosi 2.5\n"
     ]
    }
   ],
   "source": [
    "if p_val > 0.95:\n",
    "    print(\"srednia tego rozkładu wynosi 2.5\")\n",
    "else:\n",
    "    print(\"srednia tego rozkładu nie wynosi 2.5\")"
   ],
   "metadata": {
    "collapsed": false,
    "pycharm": {
     "name": "#%%\n"
    }
   }
  },
  {
   "cell_type": "code",
   "execution_count": 10,
   "outputs": [],
   "source": [
    "import pandas as pd"
   ],
   "metadata": {
    "collapsed": false,
    "pycharm": {
     "name": "#%%\n"
    }
   }
  },
  {
   "cell_type": "code",
   "execution_count": 11,
   "outputs": [],
   "source": [
    "napoje = pd.read_csv('napoje.csv', sep=';')"
   ],
   "metadata": {
    "collapsed": false,
    "pycharm": {
     "name": "#%%\n"
    }
   }
  },
  {
   "cell_type": "code",
   "execution_count": 12,
   "outputs": [
    {
     "data": {
      "text/plain": "     mies   rok   pepsi  fanta   żywiec  okocim  regionalne    cola   lech\n0       1  2001  108447   43302  186385   54301       45065  227013  56306\n1       2  2001  105439   46711  168782   68131       43933  221115  67212\n2       3  2001  111675   36029  172186   63104       46663  222812  67398\n3       4  2001  113232   33659  172445   50871       45195  238631  57100\n4       5  2001  110274   40853  174526   67924       47926  222963  65001\n..    ...   ...     ...     ...     ...     ...         ...     ...    ...\n187     8  2016  105949   43017  169329   64262       58101  222531  58037\n188     9  2016  103420   44310  173923   67591       44565  230270  65156\n189    10  2016  120363   50688  175856   63791       51376  247155  59276\n190    11  2016  101215   41924  175914   62570       59505  240524  61765\n191    12  2016  114300   42314  178209   65923       58508  223129  68106\n\n[192 rows x 9 columns]",
      "text/html": "<div>\n<style scoped>\n    .dataframe tbody tr th:only-of-type {\n        vertical-align: middle;\n    }\n\n    .dataframe tbody tr th {\n        vertical-align: top;\n    }\n\n    .dataframe thead th {\n        text-align: right;\n    }\n</style>\n<table border=\"1\" class=\"dataframe\">\n  <thead>\n    <tr style=\"text-align: right;\">\n      <th></th>\n      <th>mies</th>\n      <th>rok</th>\n      <th>pepsi</th>\n      <th>fanta</th>\n      <th>żywiec</th>\n      <th>okocim</th>\n      <th>regionalne</th>\n      <th>cola</th>\n      <th>lech</th>\n    </tr>\n  </thead>\n  <tbody>\n    <tr>\n      <th>0</th>\n      <td>1</td>\n      <td>2001</td>\n      <td>108447</td>\n      <td>43302</td>\n      <td>186385</td>\n      <td>54301</td>\n      <td>45065</td>\n      <td>227013</td>\n      <td>56306</td>\n    </tr>\n    <tr>\n      <th>1</th>\n      <td>2</td>\n      <td>2001</td>\n      <td>105439</td>\n      <td>46711</td>\n      <td>168782</td>\n      <td>68131</td>\n      <td>43933</td>\n      <td>221115</td>\n      <td>67212</td>\n    </tr>\n    <tr>\n      <th>2</th>\n      <td>3</td>\n      <td>2001</td>\n      <td>111675</td>\n      <td>36029</td>\n      <td>172186</td>\n      <td>63104</td>\n      <td>46663</td>\n      <td>222812</td>\n      <td>67398</td>\n    </tr>\n    <tr>\n      <th>3</th>\n      <td>4</td>\n      <td>2001</td>\n      <td>113232</td>\n      <td>33659</td>\n      <td>172445</td>\n      <td>50871</td>\n      <td>45195</td>\n      <td>238631</td>\n      <td>57100</td>\n    </tr>\n    <tr>\n      <th>4</th>\n      <td>5</td>\n      <td>2001</td>\n      <td>110274</td>\n      <td>40853</td>\n      <td>174526</td>\n      <td>67924</td>\n      <td>47926</td>\n      <td>222963</td>\n      <td>65001</td>\n    </tr>\n    <tr>\n      <th>...</th>\n      <td>...</td>\n      <td>...</td>\n      <td>...</td>\n      <td>...</td>\n      <td>...</td>\n      <td>...</td>\n      <td>...</td>\n      <td>...</td>\n      <td>...</td>\n    </tr>\n    <tr>\n      <th>187</th>\n      <td>8</td>\n      <td>2016</td>\n      <td>105949</td>\n      <td>43017</td>\n      <td>169329</td>\n      <td>64262</td>\n      <td>58101</td>\n      <td>222531</td>\n      <td>58037</td>\n    </tr>\n    <tr>\n      <th>188</th>\n      <td>9</td>\n      <td>2016</td>\n      <td>103420</td>\n      <td>44310</td>\n      <td>173923</td>\n      <td>67591</td>\n      <td>44565</td>\n      <td>230270</td>\n      <td>65156</td>\n    </tr>\n    <tr>\n      <th>189</th>\n      <td>10</td>\n      <td>2016</td>\n      <td>120363</td>\n      <td>50688</td>\n      <td>175856</td>\n      <td>63791</td>\n      <td>51376</td>\n      <td>247155</td>\n      <td>59276</td>\n    </tr>\n    <tr>\n      <th>190</th>\n      <td>11</td>\n      <td>2016</td>\n      <td>101215</td>\n      <td>41924</td>\n      <td>175914</td>\n      <td>62570</td>\n      <td>59505</td>\n      <td>240524</td>\n      <td>61765</td>\n    </tr>\n    <tr>\n      <th>191</th>\n      <td>12</td>\n      <td>2016</td>\n      <td>114300</td>\n      <td>42314</td>\n      <td>178209</td>\n      <td>65923</td>\n      <td>58508</td>\n      <td>223129</td>\n      <td>68106</td>\n    </tr>\n  </tbody>\n</table>\n<p>192 rows × 9 columns</p>\n</div>"
     },
     "execution_count": 12,
     "metadata": {},
     "output_type": "execute_result"
    }
   ],
   "source": [
    "napoje"
   ],
   "metadata": {
    "collapsed": false,
    "pycharm": {
     "name": "#%%\n"
    }
   }
  },
  {
   "cell_type": "code",
   "execution_count": 13,
   "outputs": [],
   "source": [
    "#średnie spożycie piwa lech wynosi 60500, coli wynosi 222000, piw regionalne wynosi 43500."
   ],
   "metadata": {
    "collapsed": false,
    "pycharm": {
     "name": "#%%\n"
    }
   }
  },
  {
   "cell_type": "code",
   "execution_count": 14,
   "outputs": [
    {
     "data": {
      "text/plain": "61091.348958333336"
     },
     "execution_count": 14,
     "metadata": {},
     "output_type": "execute_result"
    }
   ],
   "source": [
    "napoje.lech.mean()"
   ],
   "metadata": {
    "collapsed": false,
    "pycharm": {
     "name": "#%%\n"
    }
   }
  },
  {
   "cell_type": "code",
   "execution_count": 15,
   "outputs": [],
   "source": [
    "dolny_przedzial = 60500 * 0.95\n",
    "gorny_przedzial = 60500 * 1.05"
   ],
   "metadata": {
    "collapsed": false,
    "pycharm": {
     "name": "#%%\n"
    }
   }
  },
  {
   "cell_type": "code",
   "execution_count": 16,
   "outputs": [
    {
     "data": {
      "text/plain": "(57475.0, 63525.0)"
     },
     "execution_count": 16,
     "metadata": {},
     "output_type": "execute_result"
    }
   ],
   "source": [
    "dolny_przedzial, gorny_przedzial"
   ],
   "metadata": {
    "collapsed": false,
    "pycharm": {
     "name": "#%%\n"
    }
   }
  },
  {
   "cell_type": "code",
   "execution_count": 17,
   "outputs": [
    {
     "name": "stdout",
     "output_type": "stream",
     "text": [
      "średnie spożycie piwa lech wynosi 60500\n"
     ]
    }
   ],
   "source": [
    "if dolny_przedzial <= napoje.lech.mean() <= gorny_przedzial:\n",
    "    print(\"średnie spożycie piwa lech wynosi 60500\")\n",
    "else:\n",
    "    print(\"średnie spożycie piwa lech NIE wynosi 60500\")"
   ],
   "metadata": {
    "collapsed": false,
    "pycharm": {
     "name": "#%%\n"
    }
   }
  },
  {
   "cell_type": "code",
   "execution_count": 18,
   "outputs": [],
   "source": [
    "##############################"
   ],
   "metadata": {
    "collapsed": false,
    "pycharm": {
     "name": "#%%\n"
    }
   }
  },
  {
   "cell_type": "code",
   "execution_count": 18,
   "outputs": [],
   "source": [],
   "metadata": {
    "collapsed": false,
    "pycharm": {
     "name": "#%%\n"
    }
   }
  },
  {
   "cell_type": "code",
   "execution_count": 19,
   "outputs": [],
   "source": [
    "dolny_przedzial_cola = 222000 * 0.95\n",
    "gorny_przedzial_cola = 222000 * 1.05"
   ],
   "metadata": {
    "collapsed": false,
    "pycharm": {
     "name": "#%%\n"
    }
   }
  },
  {
   "cell_type": "code",
   "execution_count": 20,
   "outputs": [
    {
     "data": {
      "text/plain": "(210900.0, 226389.46875, 233100.0)"
     },
     "execution_count": 20,
     "metadata": {},
     "output_type": "execute_result"
    }
   ],
   "source": [
    "dolny_przedzial_cola,napoje.cola.mean(),gorny_przedzial_cola"
   ],
   "metadata": {
    "collapsed": false,
    "pycharm": {
     "name": "#%%\n"
    }
   }
  },
  {
   "cell_type": "code",
   "execution_count": 21,
   "outputs": [
    {
     "name": "stdout",
     "output_type": "stream",
     "text": [
      "średnie spożycie coli wynosi 222000\n"
     ]
    }
   ],
   "source": [
    "if dolny_przedzial_cola <= napoje.cola.mean() <= gorny_przedzial_cola:\n",
    "    print(\"średnie spożycie coli wynosi 222000\")\n",
    "else:\n",
    "    print(\"średnie spożycie coli NIE wynosi 222000\")"
   ],
   "metadata": {
    "collapsed": false,
    "pycharm": {
     "name": "#%%\n"
    }
   }
  },
  {
   "cell_type": "code",
   "execution_count": 22,
   "outputs": [],
   "source": [
    "##############################"
   ],
   "metadata": {
    "collapsed": false,
    "pycharm": {
     "name": "#%%\n"
    }
   }
  },
  {
   "cell_type": "code",
   "execution_count": 23,
   "outputs": [],
   "source": [
    "dolny_przedzial_reg = 43500 * 0.95\n",
    "gorny_przedzial_reg = 43500 * 1.05"
   ],
   "metadata": {
    "collapsed": false,
    "pycharm": {
     "name": "#%%\n"
    }
   }
  },
  {
   "cell_type": "code",
   "execution_count": 24,
   "outputs": [
    {
     "data": {
      "text/plain": "(41325.0, 48668.036458333336, 45675.0)"
     },
     "execution_count": 24,
     "metadata": {},
     "output_type": "execute_result"
    }
   ],
   "source": [
    "dolny_przedzial_reg,napoje.regionalne.mean(),gorny_przedzial_reg"
   ],
   "metadata": {
    "collapsed": false,
    "pycharm": {
     "name": "#%%\n"
    }
   }
  },
  {
   "cell_type": "code",
   "execution_count": 25,
   "outputs": [
    {
     "name": "stdout",
     "output_type": "stream",
     "text": [
      "średnie spożycie piw regionalnych  NIE wynosi 43500\n"
     ]
    }
   ],
   "source": [
    "if dolny_przedzial_reg <= napoje.regionalne.mean() <= gorny_przedzial_reg:\n",
    "    print(\"średnie spożycie piw regionalnych wynosi 43500\")\n",
    "else:\n",
    "    print(\"średnie spożycie piw regionalnych  NIE wynosi 43500\")"
   ],
   "metadata": {
    "collapsed": false,
    "pycharm": {
     "name": "#%%\n"
    }
   }
  },
  {
   "cell_type": "markdown",
   "source": [
    "3.\tSprawdzić która zmienna w pliku napoje.csv wykazuje normalność"
   ],
   "metadata": {
    "collapsed": false,
    "pycharm": {
     "name": "#%% md\n"
    }
   }
  },
  {
   "cell_type": "code",
   "execution_count": 26,
   "outputs": [
    {
     "name": "stdout",
     "output_type": "stream",
     "text": [
      "kolumna pepsi  wykazuje rozklad normalny\n",
      "kolumna fanta   wykazuje rozklad normalny\n",
      "kolumna żywiec  wykazuje rozklad normalny\n",
      "kolumna okocim  wykazuje rozklad normalny\n",
      "brak rozklady normalnego dla kolumny regionalne\n",
      "kolumna cola  wykazuje rozklad normalny\n",
      "kolumna lech  wykazuje rozklad normalny\n"
     ]
    }
   ],
   "source": [
    "from scipy.stats import shapiro\n",
    "\n",
    "kolumny  = list(napoje.columns)\n",
    "kolumny = kolumny[2:]\n",
    "\n",
    "for col in kolumny:\n",
    "    stat, p = shapiro(napoje[col])\n",
    "    alpha = 0.05\n",
    "    if p > alpha:\n",
    "        print(f'kolumna {col}  wykazuje rozklad normalny')\n",
    "    else:\n",
    "        print(f'brak rozklady normalnego dla kolumny {col}')"
   ],
   "metadata": {
    "collapsed": false,
    "pycharm": {
     "name": "#%%\n"
    }
   }
  },
  {
   "cell_type": "markdown",
   "source": [
    "Zbadaj równość średnich dla następujących par: okocim – lech, fanta – regionalne oraz cola – pepsi."
   ],
   "metadata": {
    "collapsed": false,
    "pycharm": {
     "name": "#%% md\n"
    }
   }
  },
  {
   "cell_type": "code",
   "execution_count": 27,
   "outputs": [
    {
     "name": "stdout",
     "output_type": "stream",
     "text": [
      "Dla okocim-lech\n",
      "srednie sa podobne\n"
     ]
    }
   ],
   "source": [
    "from scipy.stats import ttest_ind\n",
    "\n",
    "stat, p = ttest_ind(napoje.okocim, napoje.lech)\n",
    "a = 0.05\n",
    "print('Dla okocim-lech')\n",
    "if p > a:\n",
    "    print('srednie sa podobne')\n",
    "else:\n",
    "    print('srednie nie sa rowne')"
   ],
   "metadata": {
    "collapsed": false,
    "pycharm": {
     "name": "#%%\n"
    }
   }
  },
  {
   "cell_type": "code",
   "execution_count": 28,
   "outputs": [
    {
     "name": "stdout",
     "output_type": "stream",
     "text": [
      "Dla fanta-regionalne\n",
      "srednie nie sa rowne\n"
     ]
    }
   ],
   "source": [
    "stat, p = ttest_ind(napoje['fanta '], napoje.regionalne)\n",
    "a = 0.05\n",
    "print('Dla fanta-regionalne')\n",
    "if p > a:\n",
    "    print('srednie sa podobne')\n",
    "else:\n",
    "    print('srednie nie sa rowne')"
   ],
   "metadata": {
    "collapsed": false,
    "pycharm": {
     "name": "#%%\n"
    }
   }
  },
  {
   "cell_type": "code",
   "execution_count": 29,
   "outputs": [
    {
     "name": "stdout",
     "output_type": "stream",
     "text": [
      "Dla cola-pepsi\n",
      "srednie nie sa rowne\n"
     ]
    }
   ],
   "source": [
    "stat, p = ttest_ind(napoje.cola, napoje.pepsi)\n",
    "a = 0.05\n",
    "print('Dla cola-pepsi')\n",
    "if p > a:\n",
    "    print('srednie sa podobne')\n",
    "else:\n",
    "    print('srednie nie sa rowne')"
   ],
   "metadata": {
    "collapsed": false,
    "pycharm": {
     "name": "#%%\n"
    }
   }
  },
  {
   "cell_type": "markdown",
   "source": [
    "Zbadaj równość wariancji pomiędzy okocim – lech, żywiec – fanta oraz regionalne – cola."
   ],
   "metadata": {
    "collapsed": false,
    "pycharm": {
     "name": "#%% md\n"
    }
   }
  },
  {
   "cell_type": "code",
   "execution_count": 30,
   "outputs": [
    {
     "name": "stdout",
     "output_type": "stream",
     "text": [
      "Dla okocim-lech\n",
      "variancje sa podobne\n"
     ]
    }
   ],
   "source": [
    "from scipy.stats import levene\n",
    "\n",
    "stat, p = levene(napoje.okocim, napoje.lech)\n",
    "a = 0.05\n",
    "print('Dla okocim-lech')\n",
    "if p > a:\n",
    "    print('variancje sa podobne')\n",
    "else:\n",
    "    print('variancje nie sa rowne')"
   ],
   "metadata": {
    "collapsed": false,
    "pycharm": {
     "name": "#%%\n"
    }
   }
  },
  {
   "cell_type": "code",
   "execution_count": 31,
   "outputs": [
    {
     "name": "stdout",
     "output_type": "stream",
     "text": [
      "Dla zywiec-fanta\n",
      "variancje sa podobne\n"
     ]
    }
   ],
   "source": [
    "stat, p = levene(napoje.żywiec, napoje['fanta '])\n",
    "a = 0.05\n",
    "print('Dla zywiec-fanta')\n",
    "if p > a:\n",
    "    print('variancje sa podobne')\n",
    "else:\n",
    "    print('variancje nie sa rowne')"
   ],
   "metadata": {
    "collapsed": false,
    "pycharm": {
     "name": "#%%\n"
    }
   }
  },
  {
   "cell_type": "code",
   "execution_count": 32,
   "outputs": [
    {
     "name": "stdout",
     "output_type": "stream",
     "text": [
      "Dla regionalne-cola\n",
      "variancje nie sa rowne\n"
     ]
    }
   ],
   "source": [
    "stat, p = levene(napoje.regionalne, napoje.cola)\n",
    "a = 0.05\n",
    "print('Dla regionalne-cola')\n",
    "if p > a:\n",
    "    print('variancje sa podobne')\n",
    "else:\n",
    "    print('variancje nie sa rowne')"
   ],
   "metadata": {
    "collapsed": false,
    "pycharm": {
     "name": "#%%\n"
    }
   }
  },
  {
   "cell_type": "markdown",
   "source": [
    "6.\tZbadaj równość średnich pomiędzy latami 2001 i 2015 dla piw regionalnych."
   ],
   "metadata": {
    "collapsed": false,
    "pycharm": {
     "name": "#%% md\n"
    }
   }
  },
  {
   "cell_type": "code",
   "execution_count": 33,
   "outputs": [],
   "source": [
    "regionalne2001 = napoje[napoje['rok']==2001]['regionalne']\n",
    "regionalne2015 = napoje[napoje['rok']==2015]['regionalne']"
   ],
   "metadata": {
    "collapsed": false,
    "pycharm": {
     "name": "#%%\n"
    }
   }
  },
  {
   "cell_type": "code",
   "execution_count": 34,
   "outputs": [
    {
     "data": {
      "text/plain": "0     45065\n1     43933\n2     46663\n3     45195\n4     47926\n5     42821\n6     41719\n7     45433\n8     45392\n9     47166\n10    47794\n11    50156\nName: regionalne, dtype: int64"
     },
     "execution_count": 34,
     "metadata": {},
     "output_type": "execute_result"
    }
   ],
   "source": [
    "regionalne2001"
   ],
   "metadata": {
    "collapsed": false,
    "pycharm": {
     "name": "#%%\n"
    }
   }
  },
  {
   "cell_type": "code",
   "execution_count": 35,
   "outputs": [
    {
     "data": {
      "text/plain": "168    53735\n169    51911\n170    56495\n171    49805\n172    60818\n173    49150\n174    45002\n175    40573\n176    49077\n177    58483\n178    59886\n179    59525\nName: regionalne, dtype: int64"
     },
     "execution_count": 35,
     "metadata": {},
     "output_type": "execute_result"
    }
   ],
   "source": [
    "regionalne2015"
   ],
   "metadata": {
    "collapsed": false,
    "pycharm": {
     "name": "#%%\n"
    }
   }
  },
  {
   "cell_type": "code",
   "execution_count": 36,
   "outputs": [
    {
     "name": "stdout",
     "output_type": "stream",
     "text": [
      "Dla 2001-2015\n",
      "srednie nie sa rowne\n"
     ]
    }
   ],
   "source": [
    "stat, p = ttest_ind(regionalne2001, regionalne2015)\n",
    "a = 0.05\n",
    "print('Dla 2001-2015')\n",
    "if p > a:\n",
    "    print('srednie sa podobne')\n",
    "else:\n",
    "    print('srednie nie sa rowne')"
   ],
   "metadata": {
    "collapsed": false,
    "pycharm": {
     "name": "#%%\n"
    }
   }
  },
  {
   "cell_type": "markdown",
   "source": [
    "7.\tZbadaj równość średnich dla wartości z roku 2016 oraz dla wartości z pliku napoje_po_reklamie.csv oddzielnie dla coli, fanty i pepsi. Zakładamy, że zmienne te są zależne."
   ],
   "metadata": {
    "collapsed": false,
    "pycharm": {
     "name": "#%% md\n"
    }
   }
  },
  {
   "cell_type": "code",
   "execution_count": 37,
   "outputs": [],
   "source": [
    "df = pd.read_csv('napoje_po_reklamie.csv', sep=';')"
   ],
   "metadata": {
    "collapsed": false,
    "pycharm": {
     "name": "#%%\n"
    }
   }
  },
  {
   "cell_type": "code",
   "execution_count": 38,
   "outputs": [],
   "source": [
    "bez_reklamy = napoje[napoje['rok']==2016]"
   ],
   "metadata": {
    "collapsed": false,
    "pycharm": {
     "name": "#%%\n"
    }
   }
  },
  {
   "cell_type": "code",
   "execution_count": 39,
   "outputs": [
    {
     "data": {
      "text/plain": "(226885.58333333334, 226457.66666666666)"
     },
     "execution_count": 39,
     "metadata": {},
     "output_type": "execute_result"
    }
   ],
   "source": [
    "bez_reklamy.cola.mean(), df.cola.mean()"
   ],
   "metadata": {
    "collapsed": false,
    "pycharm": {
     "name": "#%%\n"
    }
   }
  },
  {
   "cell_type": "code",
   "execution_count": 40,
   "outputs": [
    {
     "name": "stdout",
     "output_type": "stream",
     "text": [
      "Dla bez reklamy- oraz z reklama\n",
      "srednie sa podobne\n"
     ]
    }
   ],
   "source": [
    "stat, p = ttest_ind(bez_reklamy.cola, df.cola)\n",
    "a = 0.05\n",
    "print('Dla bez reklamy- oraz z reklama')\n",
    "if p > a:\n",
    "    print('srednie sa podobne')\n",
    "else:\n",
    "    print('srednie nie sa rowne')"
   ],
   "metadata": {
    "collapsed": false,
    "pycharm": {
     "name": "#%%\n"
    }
   }
  },
  {
   "cell_type": "code",
   "execution_count": 41,
   "outputs": [
    {
     "data": {
      "text/plain": "(43282.916666666664, 42626.5)"
     },
     "execution_count": 41,
     "metadata": {},
     "output_type": "execute_result"
    }
   ],
   "source": [
    "bez_reklamy['fanta '].mean(), df['fanta '].mean()"
   ],
   "metadata": {
    "collapsed": false,
    "pycharm": {
     "name": "#%%\n"
    }
   }
  },
  {
   "cell_type": "code",
   "execution_count": 42,
   "outputs": [
    {
     "name": "stdout",
     "output_type": "stream",
     "text": [
      "Dla bez reklamy- oraz z reklama\n",
      "srednie sa podobne\n"
     ]
    }
   ],
   "source": [
    "stat, p = ttest_ind(bez_reklamy['fanta '], df['fanta '])\n",
    "a = 0.05\n",
    "print('Dla bez reklamy- oraz z reklama')\n",
    "if p > a:\n",
    "    print('srednie sa podobne')\n",
    "else:\n",
    "    print('srednie nie sa rowne')"
   ],
   "metadata": {
    "collapsed": false,
    "pycharm": {
     "name": "#%%\n"
    }
   }
  },
  {
   "cell_type": "markdown",
   "source": [],
   "metadata": {
    "collapsed": false
   }
  },
  {
   "cell_type": "code",
   "execution_count": 43,
   "outputs": [
    {
     "data": {
      "text/plain": "(108726.41666666667, 109203.83333333333)"
     },
     "execution_count": 43,
     "metadata": {},
     "output_type": "execute_result"
    }
   ],
   "source": [
    "bez_reklamy['pepsi'].mean(), df['pepsi'].mean()"
   ],
   "metadata": {
    "collapsed": false,
    "pycharm": {
     "name": "#%%\n"
    }
   }
  },
  {
   "cell_type": "code",
   "execution_count": 44,
   "outputs": [
    {
     "name": "stdout",
     "output_type": "stream",
     "text": [
      "Dla bez reklamy- oraz z reklama\n",
      "srednie sa podobne\n"
     ]
    }
   ],
   "source": [
    "stat, p = ttest_ind(bez_reklamy['pepsi'], df['pepsi'])\n",
    "a = 0.05\n",
    "print('Dla bez reklamy- oraz z reklama')\n",
    "if p > a:\n",
    "    print('srednie sa podobne')\n",
    "else:\n",
    "    print('srednie nie sa rowne')"
   ],
   "metadata": {
    "collapsed": false,
    "pycharm": {
     "name": "#%%\n"
    }
   }
  },
  {
   "cell_type": "code",
   "execution_count": null,
   "outputs": [],
   "source": [],
   "metadata": {
    "collapsed": false,
    "pycharm": {
     "name": "#%%\n"
    }
   }
  }
 ],
 "metadata": {
  "kernelspec": {
   "display_name": "Python 3",
   "language": "python",
   "name": "python3"
  },
  "language_info": {
   "codemirror_mode": {
    "name": "ipython",
    "version": 2
   },
   "file_extension": ".py",
   "mimetype": "text/x-python",
   "name": "python",
   "nbconvert_exporter": "python",
   "pygments_lexer": "ipython2",
   "version": "2.7.6"
  }
 },
 "nbformat": 4,
 "nbformat_minor": 0
}