{
 "cells": [
  {
   "cell_type": "markdown",
   "metadata": {
    "collapsed": true,
    "pycharm": {
     "name": "#%% md\n"
    }
   },
   "source": [
    "Wygeneruj próbę losową dla rozkładu normalnego dla średniej = 2, odchylenia = 30 i liczby elementów = 200. Zbadaj hipotezę mówiącą o tym, że średnia tego rozkładu jest równa 2,5."
   ]
  },
  {
   "cell_type": "code",
   "execution_count": 1,
   "outputs": [],
   "source": [
    "import numpy as np\n",
    "from scipy.stats import ttest_1samp, ttest_rel"
   ],
   "metadata": {
    "collapsed": false,
    "pycharm": {
     "name": "#%%\n"
    }
   }
  },
  {
   "cell_type": "code",
   "execution_count": 2,
   "outputs": [],
   "source": [
    "norm = np.random.normal(loc=2, scale=30, size=200)"
   ],
   "metadata": {
    "collapsed": false,
    "pycharm": {
     "name": "#%%\n"
    }
   }
  },
  {
   "cell_type": "code",
   "execution_count": 3,
   "outputs": [
    {
     "data": {
      "text/plain": "array([ 47.17871409, -91.96846559,   7.92210123,  24.41226993,\n       -30.5377022 ,  42.22281995, -46.64986298,  48.68469945,\n       -33.12568146,  -8.19445359,  13.18973736,  23.12287838,\n       -24.376034  ,  33.82514394, -34.74830161, -39.93729516,\n         2.39012581, -32.09364547, -35.40726994,  -4.37662416,\n         2.50062712,  30.39228899, -18.04139303,   7.46540737,\n        -1.44294008,  32.76852827,  51.74727638,  12.97165003,\n         8.37673494,  18.05391873, -35.99744941, -22.70416965,\n        11.25224739, -18.05542719,  24.83928375, -10.12921861,\n        -0.63116533,  36.39995734,   7.91209863, -32.99626766,\n        11.18740281,   0.6035836 ,  -2.10878236, -59.05574408,\n       -35.34247601, -42.19956255,  29.91062287,  -2.99076454,\n        10.39384472,  16.77222535, -32.62399498,  36.04603256,\n        64.71408716,  18.61838685, -22.95199638,  48.50934766,\n        -4.10250102,  57.09587794,  64.57905809,  24.95312265,\n         0.78926743,  19.59525855,  47.99070578, -24.99253946,\n       -40.78620833, -27.93052658,  39.91465261,  13.31325241,\n         0.13706671,  48.08131742,  20.57902403,  28.76589073,\n       -26.4383782 ,  31.21046702,  33.71587289, -27.75514927,\n        17.31780654, -22.42567651,  -9.36376992,  12.42796647,\n       -22.6484382 ,  13.08480176,  -6.87201676, -59.43519952,\n       -24.50259394, -32.32019297,  24.02303755,  47.63208782,\n       -12.42902291,  10.33424799,  13.05635562,  20.20177799,\n        25.91390141, -22.67557696,   0.55135768,   1.21705077,\n         2.14062654, -30.55042326,  20.52796418,  60.49280553,\n       -59.98629932,  54.82215396,  20.52843243, -79.15725942,\n       -14.29571876,  -1.67600583,  37.65043535,  16.0738257 ,\n        14.10309448,   3.50013226, -17.64891671,  17.75022395,\n       -31.83961804, -12.32810068, -62.20481421,  20.71794409,\n        26.471201  ,  49.48842244, -11.90606645,  23.4175062 ,\n       -42.8366818 ,  12.65100953, -51.37301309,  13.64725329,\n       -26.38267161,  17.18398197,  -5.85548353,  51.18686108,\n        14.99637782,  -7.51341711,  61.46958118,  -7.4811124 ,\n       -40.16187617, -20.50834551,  35.30110382,  11.82897583,\n        18.00382746, -50.36703853,  12.94376393, -43.67828176,\n       -61.82485043, -43.99727181,   3.02085644, -29.03189984,\n        10.69861935,  -9.92958759, -26.22940023,  14.64596475,\n        53.65746814,  -7.24359061, -11.77933438,  30.05923629,\n       -19.96455086, -18.17222235, -41.761652  ,  38.71306581,\n        16.48848507, -33.09020377, -29.80569494,  44.4655049 ,\n       -36.96484073,   7.08318052, -34.40405381,  -0.86234488,\n        -3.75973765,  -3.54621841,  24.34348912,  31.57825454,\n       -51.63061259,  12.30271067,   4.44174608,  16.86105292,\n        -1.10895214,   1.29937621,   2.87286543,  26.11517288,\n        35.74870261,  -6.82582552, -13.39976385,  14.04781037,\n        12.98924433, -62.67678459, -24.89151231,   3.90311124,\n        -2.49643073, -32.13153695,  22.84729197,  -5.25104284,\n        45.72900266,  -0.11458489, -38.99418035, -35.18237647,\n       -16.04028002,  -6.47579683,  70.92553563, -55.24977415,\n        -8.3468995 , -13.75483947, -36.03601675,  -3.90083441])"
     },
     "execution_count": 3,
     "metadata": {},
     "output_type": "execute_result"
    }
   ],
   "source": [
    "norm"
   ],
   "metadata": {
    "collapsed": false,
    "pycharm": {
     "name": "#%%\n"
    }
   }
  },
  {
   "cell_type": "code",
   "execution_count": 4,
   "outputs": [
    {
     "data": {
      "text/plain": "-0.1269530046329254"
     },
     "execution_count": 4,
     "metadata": {},
     "output_type": "execute_result"
    }
   ],
   "source": [
    "norm.mean()"
   ],
   "metadata": {
    "collapsed": false,
    "pycharm": {
     "name": "#%%\n"
    }
   }
  },
  {
   "cell_type": "code",
   "execution_count": 5,
   "outputs": [],
   "source": [
    "t_stat, p_val = ttest_1samp(norm, 2.5)"
   ],
   "metadata": {
    "collapsed": false,
    "pycharm": {
     "name": "#%%\n"
    }
   }
  },
  {
   "cell_type": "code",
   "execution_count": 6,
   "outputs": [
    {
     "data": {
      "text/plain": "-1.1937594948611323"
     },
     "execution_count": 6,
     "metadata": {},
     "output_type": "execute_result"
    }
   ],
   "source": [
    "t_stat"
   ],
   "metadata": {
    "collapsed": false,
    "pycharm": {
     "name": "#%%\n"
    }
   }
  },
  {
   "cell_type": "code",
   "execution_count": 7,
   "outputs": [
    {
     "data": {
      "text/plain": "0.23399317968782626"
     },
     "execution_count": 7,
     "metadata": {},
     "output_type": "execute_result"
    }
   ],
   "source": [
    "p_val"
   ],
   "metadata": {
    "collapsed": false,
    "pycharm": {
     "name": "#%%\n"
    }
   }
  },
  {
   "cell_type": "code",
   "execution_count": 8,
   "outputs": [
    {
     "name": "stdout",
     "output_type": "stream",
     "text": [
      "srednia tego rozkładu nie wynosi 2.5\n"
     ]
    }
   ],
   "source": [
    "if p_val > 0.95:\n",
    "    print(\"srednia tego rozkładu wynosi 2.5\")\n",
    "else:\n",
    "    print(\"srednia tego rozkładu nie wynosi 2.5\")"
   ],
   "metadata": {
    "collapsed": false,
    "pycharm": {
     "name": "#%%\n"
    }
   }
  },
  {
   "cell_type": "code",
   "execution_count": 9,
   "outputs": [],
   "source": [
    "import pandas as pd"
   ],
   "metadata": {
    "collapsed": false,
    "pycharm": {
     "name": "#%%\n"
    }
   }
  },
  {
   "cell_type": "code",
   "execution_count": 10,
   "outputs": [],
   "source": [
    "napoje = pd.read_csv('napoje.csv', sep=';')"
   ],
   "metadata": {
    "collapsed": false,
    "pycharm": {
     "name": "#%%\n"
    }
   }
  },
  {
   "cell_type": "code",
   "execution_count": 11,
   "outputs": [
    {
     "data": {
      "text/plain": "     mies   rok   pepsi  fanta   żywiec  okocim  regionalne    cola   lech\n0       1  2001  108447   43302  186385   54301       45065  227013  56306\n1       2  2001  105439   46711  168782   68131       43933  221115  67212\n2       3  2001  111675   36029  172186   63104       46663  222812  67398\n3       4  2001  113232   33659  172445   50871       45195  238631  57100\n4       5  2001  110274   40853  174526   67924       47926  222963  65001\n..    ...   ...     ...     ...     ...     ...         ...     ...    ...\n187     8  2016  105949   43017  169329   64262       58101  222531  58037\n188     9  2016  103420   44310  173923   67591       44565  230270  65156\n189    10  2016  120363   50688  175856   63791       51376  247155  59276\n190    11  2016  101215   41924  175914   62570       59505  240524  61765\n191    12  2016  114300   42314  178209   65923       58508  223129  68106\n\n[192 rows x 9 columns]",
      "text/html": "<div>\n<style scoped>\n    .dataframe tbody tr th:only-of-type {\n        vertical-align: middle;\n    }\n\n    .dataframe tbody tr th {\n        vertical-align: top;\n    }\n\n    .dataframe thead th {\n        text-align: right;\n    }\n</style>\n<table border=\"1\" class=\"dataframe\">\n  <thead>\n    <tr style=\"text-align: right;\">\n      <th></th>\n      <th>mies</th>\n      <th>rok</th>\n      <th>pepsi</th>\n      <th>fanta</th>\n      <th>żywiec</th>\n      <th>okocim</th>\n      <th>regionalne</th>\n      <th>cola</th>\n      <th>lech</th>\n    </tr>\n  </thead>\n  <tbody>\n    <tr>\n      <th>0</th>\n      <td>1</td>\n      <td>2001</td>\n      <td>108447</td>\n      <td>43302</td>\n      <td>186385</td>\n      <td>54301</td>\n      <td>45065</td>\n      <td>227013</td>\n      <td>56306</td>\n    </tr>\n    <tr>\n      <th>1</th>\n      <td>2</td>\n      <td>2001</td>\n      <td>105439</td>\n      <td>46711</td>\n      <td>168782</td>\n      <td>68131</td>\n      <td>43933</td>\n      <td>221115</td>\n      <td>67212</td>\n    </tr>\n    <tr>\n      <th>2</th>\n      <td>3</td>\n      <td>2001</td>\n      <td>111675</td>\n      <td>36029</td>\n      <td>172186</td>\n      <td>63104</td>\n      <td>46663</td>\n      <td>222812</td>\n      <td>67398</td>\n    </tr>\n    <tr>\n      <th>3</th>\n      <td>4</td>\n      <td>2001</td>\n      <td>113232</td>\n      <td>33659</td>\n      <td>172445</td>\n      <td>50871</td>\n      <td>45195</td>\n      <td>238631</td>\n      <td>57100</td>\n    </tr>\n    <tr>\n      <th>4</th>\n      <td>5</td>\n      <td>2001</td>\n      <td>110274</td>\n      <td>40853</td>\n      <td>174526</td>\n      <td>67924</td>\n      <td>47926</td>\n      <td>222963</td>\n      <td>65001</td>\n    </tr>\n    <tr>\n      <th>...</th>\n      <td>...</td>\n      <td>...</td>\n      <td>...</td>\n      <td>...</td>\n      <td>...</td>\n      <td>...</td>\n      <td>...</td>\n      <td>...</td>\n      <td>...</td>\n    </tr>\n    <tr>\n      <th>187</th>\n      <td>8</td>\n      <td>2016</td>\n      <td>105949</td>\n      <td>43017</td>\n      <td>169329</td>\n      <td>64262</td>\n      <td>58101</td>\n      <td>222531</td>\n      <td>58037</td>\n    </tr>\n    <tr>\n      <th>188</th>\n      <td>9</td>\n      <td>2016</td>\n      <td>103420</td>\n      <td>44310</td>\n      <td>173923</td>\n      <td>67591</td>\n      <td>44565</td>\n      <td>230270</td>\n      <td>65156</td>\n    </tr>\n    <tr>\n      <th>189</th>\n      <td>10</td>\n      <td>2016</td>\n      <td>120363</td>\n      <td>50688</td>\n      <td>175856</td>\n      <td>63791</td>\n      <td>51376</td>\n      <td>247155</td>\n      <td>59276</td>\n    </tr>\n    <tr>\n      <th>190</th>\n      <td>11</td>\n      <td>2016</td>\n      <td>101215</td>\n      <td>41924</td>\n      <td>175914</td>\n      <td>62570</td>\n      <td>59505</td>\n      <td>240524</td>\n      <td>61765</td>\n    </tr>\n    <tr>\n      <th>191</th>\n      <td>12</td>\n      <td>2016</td>\n      <td>114300</td>\n      <td>42314</td>\n      <td>178209</td>\n      <td>65923</td>\n      <td>58508</td>\n      <td>223129</td>\n      <td>68106</td>\n    </tr>\n  </tbody>\n</table>\n<p>192 rows × 9 columns</p>\n</div>"
     },
     "execution_count": 11,
     "metadata": {},
     "output_type": "execute_result"
    }
   ],
   "source": [
    "napoje"
   ],
   "metadata": {
    "collapsed": false,
    "pycharm": {
     "name": "#%%\n"
    }
   }
  },
  {
   "cell_type": "code",
   "execution_count": 12,
   "outputs": [],
   "source": [
    "#średnie spożycie piwa lech wynosi 60500, coli wynosi 222000, piw regionalne wynosi 43500."
   ],
   "metadata": {
    "collapsed": false,
    "pycharm": {
     "name": "#%%\n"
    }
   }
  },
  {
   "cell_type": "code",
   "execution_count": 13,
   "outputs": [
    {
     "data": {
      "text/plain": "61091.348958333336"
     },
     "execution_count": 13,
     "metadata": {},
     "output_type": "execute_result"
    }
   ],
   "source": [
    "napoje.lech.mean()"
   ],
   "metadata": {
    "collapsed": false,
    "pycharm": {
     "name": "#%%\n"
    }
   }
  },
  {
   "cell_type": "code",
   "execution_count": 14,
   "outputs": [],
   "source": [
    "dolny_przedzial = 60500 * 0.95\n",
    "gorny_przedzial = 60500 * 1.05"
   ],
   "metadata": {
    "collapsed": false,
    "pycharm": {
     "name": "#%%\n"
    }
   }
  },
  {
   "cell_type": "code",
   "execution_count": 15,
   "outputs": [
    {
     "data": {
      "text/plain": "(57475.0, 63525.0)"
     },
     "execution_count": 15,
     "metadata": {},
     "output_type": "execute_result"
    }
   ],
   "source": [
    "dolny_przedzial, gorny_przedzial"
   ],
   "metadata": {
    "collapsed": false,
    "pycharm": {
     "name": "#%%\n"
    }
   }
  },
  {
   "cell_type": "code",
   "execution_count": 16,
   "outputs": [
    {
     "name": "stdout",
     "output_type": "stream",
     "text": [
      "średnie spożycie piwa lech wynosi 60500\n"
     ]
    }
   ],
   "source": [
    "if dolny_przedzial <= napoje.lech.mean() <= gorny_przedzial:\n",
    "    print(\"średnie spożycie piwa lech wynosi 60500\")\n",
    "else:\n",
    "    print(\"średnie spożycie piwa lech NIE wynosi 60500\")"
   ],
   "metadata": {
    "collapsed": false,
    "pycharm": {
     "name": "#%%\n"
    }
   }
  },
  {
   "cell_type": "code",
   "execution_count": 17,
   "outputs": [],
   "source": [
    "##############################"
   ],
   "metadata": {
    "collapsed": false,
    "pycharm": {
     "name": "#%%\n"
    }
   }
  },
  {
   "cell_type": "code",
   "execution_count": 17,
   "outputs": [],
   "source": [],
   "metadata": {
    "collapsed": false,
    "pycharm": {
     "name": "#%%\n"
    }
   }
  },
  {
   "cell_type": "code",
   "execution_count": 18,
   "outputs": [],
   "source": [
    "dolny_przedzial_cola = 222000 * 0.95\n",
    "gorny_przedzial_cola = 222000 * 1.05"
   ],
   "metadata": {
    "collapsed": false,
    "pycharm": {
     "name": "#%%\n"
    }
   }
  },
  {
   "cell_type": "code",
   "execution_count": 19,
   "outputs": [
    {
     "data": {
      "text/plain": "(210900.0, 226389.46875, 233100.0)"
     },
     "execution_count": 19,
     "metadata": {},
     "output_type": "execute_result"
    }
   ],
   "source": [
    "dolny_przedzial_cola,napoje.cola.mean(),gorny_przedzial_cola"
   ],
   "metadata": {
    "collapsed": false,
    "pycharm": {
     "name": "#%%\n"
    }
   }
  },
  {
   "cell_type": "code",
   "execution_count": 20,
   "outputs": [
    {
     "name": "stdout",
     "output_type": "stream",
     "text": [
      "średnie spożycie coli wynosi 222000\n"
     ]
    }
   ],
   "source": [
    "if dolny_przedzial_cola <= napoje.cola.mean() <= gorny_przedzial_cola:\n",
    "    print(\"średnie spożycie coli wynosi 222000\")\n",
    "else:\n",
    "    print(\"średnie spożycie coli NIE wynosi 222000\")"
   ],
   "metadata": {
    "collapsed": false,
    "pycharm": {
     "name": "#%%\n"
    }
   }
  },
  {
   "cell_type": "code",
   "execution_count": 21,
   "outputs": [],
   "source": [
    "##############################"
   ],
   "metadata": {
    "collapsed": false,
    "pycharm": {
     "name": "#%%\n"
    }
   }
  },
  {
   "cell_type": "code",
   "execution_count": 22,
   "outputs": [],
   "source": [
    "dolny_przedzial_reg = 43500 * 0.95\n",
    "gorny_przedzial_reg = 43500 * 1.05"
   ],
   "metadata": {
    "collapsed": false,
    "pycharm": {
     "name": "#%%\n"
    }
   }
  },
  {
   "cell_type": "code",
   "execution_count": 23,
   "outputs": [
    {
     "data": {
      "text/plain": "(41325.0, 48668.036458333336, 45675.0)"
     },
     "execution_count": 23,
     "metadata": {},
     "output_type": "execute_result"
    }
   ],
   "source": [
    "dolny_przedzial_reg,napoje.regionalne.mean(),gorny_przedzial_reg"
   ],
   "metadata": {
    "collapsed": false,
    "pycharm": {
     "name": "#%%\n"
    }
   }
  },
  {
   "cell_type": "code",
   "execution_count": 24,
   "outputs": [
    {
     "name": "stdout",
     "output_type": "stream",
     "text": [
      "średnie spożycie piw regionalnych  NIE wynosi 43500\n"
     ]
    }
   ],
   "source": [
    "if dolny_przedzial_reg <= napoje.regionalne.mean() <= gorny_przedzial_reg:\n",
    "    print(\"średnie spożycie piw regionalnych wynosi 43500\")\n",
    "else:\n",
    "    print(\"średnie spożycie piw regionalnych  NIE wynosi 43500\")"
   ],
   "metadata": {
    "collapsed": false,
    "pycharm": {
     "name": "#%%\n"
    }
   }
  },
  {
   "cell_type": "markdown",
   "source": [
    "3.\tSprawdzić która zmienna w pliku napoje.csv wykazuje normalność"
   ],
   "metadata": {
    "collapsed": false,
    "pycharm": {
     "name": "#%% md\n"
    }
   }
  },
  {
   "cell_type": "code",
   "execution_count": 25,
   "outputs": [
    {
     "name": "stdout",
     "output_type": "stream",
     "text": [
      "kolumna pepsi  wykazuje rozklad normalny\n",
      "kolumna fanta   wykazuje rozklad normalny\n",
      "kolumna żywiec  wykazuje rozklad normalny\n",
      "kolumna okocim  wykazuje rozklad normalny\n",
      "brak rozklady normalnego dla kolumny regionalne\n",
      "kolumna cola  wykazuje rozklad normalny\n",
      "kolumna lech  wykazuje rozklad normalny\n"
     ]
    }
   ],
   "source": [
    "from scipy.stats import shapiro\n",
    "\n",
    "kolumny  = list(napoje.columns)\n",
    "kolumny = kolumny[2:]\n",
    "\n",
    "for col in kolumny:\n",
    "    stat, p = shapiro(napoje[col])\n",
    "    alpha = 0.05\n",
    "    if p > alpha:\n",
    "        print(f'kolumna {col}  wykazuje rozklad normalny')\n",
    "    else:\n",
    "        print(f'brak rozklady normalnego dla kolumny {col}')"
   ],
   "metadata": {
    "collapsed": false,
    "pycharm": {
     "name": "#%%\n"
    }
   }
  },
  {
   "cell_type": "markdown",
   "source": [
    "Zbadaj równość średnich dla następujących par: okocim – lech, fanta – regionalne oraz cola – pepsi."
   ],
   "metadata": {
    "collapsed": false,
    "pycharm": {
     "name": "#%% md\n"
    }
   }
  },
  {
   "cell_type": "code",
   "execution_count": 26,
   "outputs": [
    {
     "name": "stdout",
     "output_type": "stream",
     "text": [
      "Dla okocim-lech\n",
      "srednie sa podobne\n"
     ]
    }
   ],
   "source": [
    "from scipy.stats import ttest_ind\n",
    "\n",
    "stat, p = ttest_ind(napoje.okocim, napoje.lech)\n",
    "a = 0.05\n",
    "print('Dla okocim-lech')\n",
    "if p > a:\n",
    "    print('srednie sa podobne')\n",
    "else:\n",
    "    print('srednie nie sa rowne')"
   ],
   "metadata": {
    "collapsed": false,
    "pycharm": {
     "name": "#%%\n"
    }
   }
  },
  {
   "cell_type": "code",
   "execution_count": 27,
   "outputs": [
    {
     "name": "stdout",
     "output_type": "stream",
     "text": [
      "Dla fanta-regionalne\n",
      "srednie nie sa rowne\n"
     ]
    }
   ],
   "source": [
    "stat, p = ttest_ind(napoje['fanta '], napoje.regionalne)\n",
    "a = 0.05\n",
    "print('Dla fanta-regionalne')\n",
    "if p > a:\n",
    "    print('srednie sa podobne')\n",
    "else:\n",
    "    print('srednie nie sa rowne')"
   ],
   "metadata": {
    "collapsed": false,
    "pycharm": {
     "name": "#%%\n"
    }
   }
  },
  {
   "cell_type": "code",
   "execution_count": 28,
   "outputs": [
    {
     "name": "stdout",
     "output_type": "stream",
     "text": [
      "Dla cola-pepsi\n",
      "srednie nie sa rowne\n"
     ]
    }
   ],
   "source": [
    "stat, p = ttest_ind(napoje.cola, napoje.pepsi)\n",
    "a = 0.05\n",
    "print('Dla cola-pepsi')\n",
    "if p > a:\n",
    "    print('srednie sa podobne')\n",
    "else:\n",
    "    print('srednie nie sa rowne')"
   ],
   "metadata": {
    "collapsed": false,
    "pycharm": {
     "name": "#%%\n"
    }
   }
  },
  {
   "cell_type": "markdown",
   "source": [
    "Zbadaj równość wariancji pomiędzy okocim – lech, żywiec – fanta oraz regionalne – cola."
   ],
   "metadata": {
    "collapsed": false,
    "pycharm": {
     "name": "#%% md\n"
    }
   }
  },
  {
   "cell_type": "code",
   "execution_count": 29,
   "outputs": [
    {
     "name": "stdout",
     "output_type": "stream",
     "text": [
      "Dla okocim-lech\n",
      "variancje sa podobne\n"
     ]
    }
   ],
   "source": [
    "from scipy.stats import levene\n",
    "\n",
    "stat, p = levene(napoje.okocim, napoje.lech)\n",
    "a = 0.05\n",
    "print('Dla okocim-lech')\n",
    "if p > a:\n",
    "    print('variancje sa podobne')\n",
    "else:\n",
    "    print('variancje nie sa rowne')"
   ],
   "metadata": {
    "collapsed": false,
    "pycharm": {
     "name": "#%%\n"
    }
   }
  },
  {
   "cell_type": "code",
   "execution_count": 30,
   "outputs": [
    {
     "name": "stdout",
     "output_type": "stream",
     "text": [
      "Dla zywiec-fanta\n",
      "variancje sa podobne\n"
     ]
    }
   ],
   "source": [
    "stat, p = levene(napoje.żywiec, napoje['fanta '])\n",
    "a = 0.05\n",
    "print('Dla zywiec-fanta')\n",
    "if p > a:\n",
    "    print('variancje sa podobne')\n",
    "else:\n",
    "    print('variancje nie sa rowne')"
   ],
   "metadata": {
    "collapsed": false,
    "pycharm": {
     "name": "#%%\n"
    }
   }
  },
  {
   "cell_type": "code",
   "execution_count": 31,
   "outputs": [
    {
     "name": "stdout",
     "output_type": "stream",
     "text": [
      "Dla regionalne-cola\n",
      "variancje nie sa rowne\n"
     ]
    }
   ],
   "source": [
    "stat, p = levene(napoje.regionalne, napoje.cola)\n",
    "a = 0.05\n",
    "print('Dla regionalne-cola')\n",
    "if p > a:\n",
    "    print('variancje sa podobne')\n",
    "else:\n",
    "    print('variancje nie sa rowne')"
   ],
   "metadata": {
    "collapsed": false,
    "pycharm": {
     "name": "#%%\n"
    }
   }
  },
  {
   "cell_type": "markdown",
   "source": [
    "6.\tZbadaj równość średnich pomiędzy latami 2001 i 2015 dla piw regionalnych."
   ],
   "metadata": {
    "collapsed": false,
    "pycharm": {
     "name": "#%% md\n"
    }
   }
  },
  {
   "cell_type": "code",
   "execution_count": 32,
   "outputs": [],
   "source": [
    "regionalne2001 = napoje[napoje['rok']==2001]['regionalne']\n",
    "regionalne2015 = napoje[napoje['rok']==2015]['regionalne']"
   ],
   "metadata": {
    "collapsed": false,
    "pycharm": {
     "name": "#%%\n"
    }
   }
  },
  {
   "cell_type": "code",
   "execution_count": 33,
   "outputs": [
    {
     "data": {
      "text/plain": "0     45065\n1     43933\n2     46663\n3     45195\n4     47926\n5     42821\n6     41719\n7     45433\n8     45392\n9     47166\n10    47794\n11    50156\nName: regionalne, dtype: int64"
     },
     "execution_count": 33,
     "metadata": {},
     "output_type": "execute_result"
    }
   ],
   "source": [
    "regionalne2001"
   ],
   "metadata": {
    "collapsed": false,
    "pycharm": {
     "name": "#%%\n"
    }
   }
  },
  {
   "cell_type": "code",
   "execution_count": 34,
   "outputs": [
    {
     "data": {
      "text/plain": "168    53735\n169    51911\n170    56495\n171    49805\n172    60818\n173    49150\n174    45002\n175    40573\n176    49077\n177    58483\n178    59886\n179    59525\nName: regionalne, dtype: int64"
     },
     "execution_count": 34,
     "metadata": {},
     "output_type": "execute_result"
    }
   ],
   "source": [
    "regionalne2015"
   ],
   "metadata": {
    "collapsed": false,
    "pycharm": {
     "name": "#%%\n"
    }
   }
  },
  {
   "cell_type": "code",
   "execution_count": 35,
   "outputs": [
    {
     "name": "stdout",
     "output_type": "stream",
     "text": [
      "Dla 2001-2015\n",
      "srednie nie sa rowne\n"
     ]
    }
   ],
   "source": [
    "stat, p = ttest_ind(regionalne2001, regionalne2015)\n",
    "a = 0.05\n",
    "print('Dla 2001-2015')\n",
    "if p > a:\n",
    "    print('srednie sa podobne')\n",
    "else:\n",
    "    print('srednie nie sa rowne')"
   ],
   "metadata": {
    "collapsed": false,
    "pycharm": {
     "name": "#%%\n"
    }
   }
  },
  {
   "cell_type": "markdown",
   "source": [
    "7.\tZbadaj równość średnich dla wartości z roku 2016 oraz dla wartości z pliku napoje_po_reklamie.csv oddzielnie dla coli, fanty i pepsi. Zakładamy, że zmienne te są zależne."
   ],
   "metadata": {
    "collapsed": false,
    "pycharm": {
     "name": "#%% md\n"
    }
   }
  },
  {
   "cell_type": "code",
   "execution_count": 36,
   "outputs": [],
   "source": [
    "df = pd.read_csv('napoje_po_reklamie.csv', sep=';')"
   ],
   "metadata": {
    "collapsed": false,
    "pycharm": {
     "name": "#%%\n"
    }
   }
  },
  {
   "cell_type": "code",
   "execution_count": 37,
   "outputs": [],
   "source": [
    "bez_reklamy = napoje[napoje['rok']==2016]"
   ],
   "metadata": {
    "collapsed": false,
    "pycharm": {
     "name": "#%%\n"
    }
   }
  },
  {
   "cell_type": "code",
   "execution_count": 38,
   "outputs": [
    {
     "data": {
      "text/plain": "(226885.58333333334, 226457.66666666666)"
     },
     "execution_count": 38,
     "metadata": {},
     "output_type": "execute_result"
    }
   ],
   "source": [
    "bez_reklamy.cola.mean(), df.cola.mean()"
   ],
   "metadata": {
    "collapsed": false,
    "pycharm": {
     "name": "#%%\n"
    }
   }
  },
  {
   "cell_type": "code",
   "execution_count": 39,
   "outputs": [
    {
     "name": "stdout",
     "output_type": "stream",
     "text": [
      "Dla bez reklamy- oraz z reklama\n",
      "srednie sa podobne\n"
     ]
    }
   ],
   "source": [
    "stat, p = ttest_rel(bez_reklamy.cola, df.cola)\n",
    "a = 0.05\n",
    "print('Dla bez reklamy- oraz z reklama')\n",
    "if p > a:\n",
    "    print('srednie sa podobne')\n",
    "else:\n",
    "    print('srednie nie sa rowne')"
   ],
   "metadata": {
    "collapsed": false,
    "pycharm": {
     "name": "#%%\n"
    }
   }
  },
  {
   "cell_type": "code",
   "execution_count": 40,
   "outputs": [
    {
     "data": {
      "text/plain": "(43282.916666666664, 42626.5)"
     },
     "execution_count": 40,
     "metadata": {},
     "output_type": "execute_result"
    }
   ],
   "source": [
    "bez_reklamy['fanta '].mean(), df['fanta '].mean()"
   ],
   "metadata": {
    "collapsed": false,
    "pycharm": {
     "name": "#%%\n"
    }
   }
  },
  {
   "cell_type": "code",
   "execution_count": 41,
   "outputs": [
    {
     "name": "stdout",
     "output_type": "stream",
     "text": [
      "Dla bez reklamy- oraz z reklama\n",
      "srednie sa podobne\n"
     ]
    }
   ],
   "source": [
    "stat, p = ttest_rel(bez_reklamy['fanta '], df['fanta '])\n",
    "a = 0.05\n",
    "print('Dla bez reklamy- oraz z reklama')\n",
    "if p > a:\n",
    "    print('srednie sa podobne')\n",
    "else:\n",
    "    print('srednie nie sa rowne')"
   ],
   "metadata": {
    "collapsed": false,
    "pycharm": {
     "name": "#%%\n"
    }
   }
  },
  {
   "cell_type": "markdown",
   "source": [],
   "metadata": {
    "collapsed": false
   }
  },
  {
   "cell_type": "code",
   "execution_count": 42,
   "outputs": [
    {
     "data": {
      "text/plain": "(108726.41666666667, 109203.83333333333)"
     },
     "execution_count": 42,
     "metadata": {},
     "output_type": "execute_result"
    }
   ],
   "source": [
    "bez_reklamy['pepsi'].mean(), df['pepsi'].mean()"
   ],
   "metadata": {
    "collapsed": false,
    "pycharm": {
     "name": "#%%\n"
    }
   }
  },
  {
   "cell_type": "code",
   "execution_count": 43,
   "outputs": [
    {
     "name": "stdout",
     "output_type": "stream",
     "text": [
      "Dla bez reklamy- oraz z reklama\n",
      "srednie sa podobne\n"
     ]
    }
   ],
   "source": [
    "stat, p = ttest_rel(bez_reklamy['pepsi'], df['pepsi'])\n",
    "a = 0.05\n",
    "print('Dla bez reklamy- oraz z reklama')\n",
    "if p > a:\n",
    "    print('srednie sa podobne')\n",
    "else:\n",
    "    print('srednie nie sa rowne')"
   ],
   "metadata": {
    "collapsed": false,
    "pycharm": {
     "name": "#%%\n"
    }
   }
  },
  {
   "cell_type": "code",
   "execution_count": 43,
   "outputs": [],
   "source": [],
   "metadata": {
    "collapsed": false,
    "pycharm": {
     "name": "#%%\n"
    }
   }
  }
 ],
 "metadata": {
  "kernelspec": {
   "display_name": "Python 3",
   "language": "python",
   "name": "python3"
  },
  "language_info": {
   "codemirror_mode": {
    "name": "ipython",
    "version": 2
   },
   "file_extension": ".py",
   "mimetype": "text/x-python",
   "name": "python",
   "nbconvert_exporter": "python",
   "pygments_lexer": "ipython2",
   "version": "2.7.6"
  }
 },
 "nbformat": 4,
 "nbformat_minor": 0
}